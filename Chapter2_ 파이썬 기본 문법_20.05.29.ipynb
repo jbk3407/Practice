{
 "cells": [
  {
   "cell_type": "markdown",
   "metadata": {},
   "source": [
    "# chapter 2 파이썬 기본 문법"
   ]
  },
  {
   "cell_type": "code",
   "execution_count": 4,
   "metadata": {},
   "outputs": [
    {
     "name": "stdout",
     "output_type": "stream",
     "text": [
      "i am happy!\n",
      "i\n",
      "i a\n",
      "happy!\n",
      "!\n",
      "py!\n",
      "pp\n"
     ]
    }
   ],
   "source": [
    "#ex 2-8\n",
    "x = 'i am happy!'\n",
    "\n",
    "print(x)\n",
    "print(x[0])\n",
    "print(x[0:3])\n",
    "print(x[5:])\n",
    "print(x[-1])\n",
    "print(x[-3:])\n",
    "print(x[-4:-2])"
   ]
  },
  {
   "cell_type": "code",
   "execution_count": 12,
   "metadata": {
    "scrolled": true
   },
   "outputs": [
    {
     "name": "stdout",
     "output_type": "stream",
     "text": [
      "나는\n",
      "행복합니다\n",
      "행복\n",
      "행복\n"
     ]
    }
   ],
   "source": [
    "y = '나는 행복합니다.'\n",
    "print(y[:2])\n",
    "print(y[3:-1])\n",
    "print(y[3:5])\n",
    "start = 3\n",
    "print(y[start:start+2])"
   ]
  },
  {
   "cell_type": "code",
   "execution_count": 14,
   "metadata": {
    "scrolled": true
   },
   "outputs": [
    {
     "name": "stdout",
     "output_type": "stream",
     "text": [
      "True\n",
      "False\n",
      "False\n",
      "<class 'bool'>\n"
     ]
    }
   ],
   "source": [
    "#ex 2-9\n",
    "a = True\n",
    "b = False\n",
    "c=10>20\n",
    "\n",
    "print(a)\n",
    "print(b)\n",
    "print(c)\n",
    "\n",
    "print(type(c))"
   ]
  },
  {
   "cell_type": "code",
   "execution_count": 15,
   "metadata": {},
   "outputs": [
    {
     "name": "stdout",
     "output_type": "stream",
     "text": [
      "209.0\n"
     ]
    }
   ],
   "source": [
    "#ex 2-10\n",
    "a=10\n",
    "b=20\n",
    "\n",
    "c= a+b*10-5/5\n",
    "print(c)"
   ]
  },
  {
   "cell_type": "code",
   "execution_count": 17,
   "metadata": {},
   "outputs": [
    {
     "name": "stdout",
     "output_type": "stream",
     "text": [
      "45\n"
     ]
    }
   ],
   "source": [
    "sum = 0\n",
    "for i in range(1,10):\n",
    "    sum +=i\n",
    "print(sum)"
   ]
  },
  {
   "cell_type": "code",
   "execution_count": 25,
   "metadata": {},
   "outputs": [
    {
     "name": "stdout",
     "output_type": "stream",
     "text": [
      "45\n"
     ]
    }
   ],
   "source": [
    "sum = 0\n",
    "for i in range(1,10):\n",
    "    sum=sum+i\n",
    "print(sum)"
   ]
  },
  {
   "cell_type": "code",
   "execution_count": 19,
   "metadata": {},
   "outputs": [
    {
     "data": {
      "text/plain": [
       "'*****'"
      ]
     },
     "execution_count": 19,
     "metadata": {},
     "output_type": "execute_result"
    }
   ],
   "source": [
    "a = '*'\n",
    "a*5"
   ]
  },
  {
   "cell_type": "code",
   "execution_count": 26,
   "metadata": {},
   "outputs": [
    {
     "name": "stdout",
     "output_type": "stream",
     "text": [
      "15\n"
     ]
    }
   ],
   "source": [
    "a = 'jeon byung gwan'\n",
    "len(a)\n",
    "print(len(a))"
   ]
  },
  {
   "cell_type": "code",
   "execution_count": 32,
   "metadata": {},
   "outputs": [
    {
     "name": "stdout",
     "output_type": "stream",
     "text": [
      "Bryan Welcome\n"
     ]
    }
   ],
   "source": [
    "name = 'Bryan'\n",
    "greet = name + \" Welcome\"\n",
    "print(greet)"
   ]
  },
  {
   "cell_type": "code",
   "execution_count": 37,
   "metadata": {},
   "outputs": [
    {
     "name": "stdout",
     "output_type": "stream",
     "text": [
      "eng score: 80\n"
     ]
    }
   ],
   "source": [
    "#ex 2-18\n",
    "eng = 80\n",
    "result = 'eng score: ' + str(eng)\n",
    "print(result)"
   ]
  },
  {
   "cell_type": "code",
   "execution_count": 54,
   "metadata": {},
   "outputs": [
    {
     "name": "stdout",
     "output_type": "stream",
     "text": [
      "2020-05-29\n"
     ]
    }
   ],
   "source": [
    "#ex 2-22\n",
    "year = 2020\n",
    "month = 5\n",
    "day = 29\n",
    "\n",
    "a = '%d-%02d-%02d'%(year, month, day)\n",
    "print(a)"
   ]
  },
  {
   "cell_type": "code",
   "execution_count": 60,
   "metadata": {},
   "outputs": [
    {
     "name": "stdout",
     "output_type": "stream",
     "text": [
      "a hight is 172.50 [cm]\n",
      "b hight is 172.500000 [cm]\n",
      "c hight is 172.5 [cm]\n",
      "d hight is     172.50\n"
     ]
    }
   ],
   "source": [
    "#ex 2-23\n",
    "height = 172.5\n",
    "a = 'hight is %0.2f [cm]'%height\n",
    "b = 'hight is %f [cm]'%height\n",
    "c= 'hight is %-0.1f [cm]'%height\n",
    "d= 'hight is %10.2f'%height\n",
    "print('a',a)\n",
    "print('b',b)\n",
    "print('c',c)\n",
    "print('d',d)"
   ]
  },
  {
   "cell_type": "code",
   "execution_count": 66,
   "metadata": {},
   "outputs": [
    {
     "name": "stdout",
     "output_type": "stream",
     "text": [
      "name:bryan\n",
      "age:27\n",
      "eyesight:1.2\n",
      "name: ()\n"
     ]
    }
   ],
   "source": [
    "#ex 2-24\n",
    "name = 'bryan'\n",
    "age = 27\n",
    "eyesight = 1.2\n",
    "\n",
    "a = 'name:{}'.format(name)\n",
    "b = 'age:{}'.format(age)\n",
    "c = 'eyesight:{}'.format(eyesight)\n",
    "\n",
    "z= 'name: ()'.format(name)\n",
    "\n",
    "print(a)\n",
    "print(b)\n",
    "print(c)\n",
    "print(z)"
   ]
  },
  {
   "cell_type": "code",
   "execution_count": 79,
   "metadata": {},
   "outputs": [
    {
     "data": {
      "text/plain": [
       "3"
      ]
     },
     "execution_count": 79,
     "metadata": {},
     "output_type": "execute_result"
    }
   ],
   "source": [
    "#문자열 메소드\n",
    "x1 = 'i am happy'\n",
    "x = '111 222 333'\n",
    "x.count(\"1\")"
   ]
  },
  {
   "cell_type": "code",
   "execution_count": 81,
   "metadata": {},
   "outputs": [
    {
     "data": {
      "text/plain": [
       "5"
      ]
     },
     "execution_count": 81,
     "metadata": {},
     "output_type": "execute_result"
    }
   ],
   "source": [
    "x1.find('happy')"
   ]
  },
  {
   "cell_type": "code",
   "execution_count": 82,
   "metadata": {},
   "outputs": [
    {
     "data": {
      "text/plain": [
       "'I AM HAPPY'"
      ]
     },
     "execution_count": 82,
     "metadata": {},
     "output_type": "execute_result"
    }
   ],
   "source": [
    "x1.upper()"
   ]
  },
  {
   "cell_type": "code",
   "execution_count": 83,
   "metadata": {},
   "outputs": [
    {
     "data": {
      "text/plain": [
       "'i am happy'"
      ]
     },
     "execution_count": 83,
     "metadata": {},
     "output_type": "execute_result"
    }
   ],
   "source": [
    "x1.lower()"
   ]
  },
  {
   "cell_type": "code",
   "execution_count": 84,
   "metadata": {},
   "outputs": [
    {
     "data": {
      "text/plain": [
       "False"
      ]
     },
     "execution_count": 84,
     "metadata": {},
     "output_type": "execute_result"
    }
   ],
   "source": [
    "x.isspace()"
   ]
  },
  {
   "cell_type": "code",
   "execution_count": 86,
   "metadata": {},
   "outputs": [
    {
     "data": {
      "text/plain": [
       "'i was happy'"
      ]
     },
     "execution_count": 86,
     "metadata": {},
     "output_type": "execute_result"
    }
   ],
   "source": [
    "x1.replace('am', 'was')"
   ]
  },
  {
   "cell_type": "code",
   "execution_count": 90,
   "metadata": {},
   "outputs": [
    {
     "data": {
      "text/plain": [
       "['i', 'am', 'happy']"
      ]
     },
     "execution_count": 90,
     "metadata": {},
     "output_type": "execute_result"
    }
   ],
   "source": [
    "x1.split(' ')"
   ]
  },
  {
   "cell_type": "code",
   "execution_count": 93,
   "metadata": {},
   "outputs": [
    {
     "name": "stdout",
     "output_type": "stream",
     "text": [
      "['', '', '', '222333']\n",
      "['', '222333']\n"
     ]
    }
   ],
   "source": [
    "print(x.split('1'))\n",
    "print(x.split('111'))"
   ]
  },
  {
   "cell_type": "code",
   "execution_count": 99,
   "metadata": {},
   "outputs": [
    {
     "data": {
      "text/plain": [
       "False"
      ]
     },
     "execution_count": 99,
     "metadata": {},
     "output_type": "execute_result"
    }
   ],
   "source": [
    "x1.isspace()"
   ]
  },
  {
   "cell_type": "code",
   "execution_count": 102,
   "metadata": {},
   "outputs": [
    {
     "data": {
      "text/plain": [
       "False"
      ]
     },
     "execution_count": 102,
     "metadata": {},
     "output_type": "execute_result"
    }
   ],
   "source": [
    "x.isspace()"
   ]
  },
  {
   "cell_type": "code",
   "execution_count": 2,
   "metadata": {},
   "outputs": [
    {
     "name": "stdout",
     "output_type": "stream",
     "text": [
      "두과목 점수: 80,87\n",
      "합계:167, 평균:83.50\n"
     ]
    }
   ],
   "source": [
    "#ex 2-27\n",
    "\n",
    "score1= 80\n",
    "score2 = 87\n",
    "\n",
    "sum = score1+score2\n",
    "avg = sum/2\n",
    "\n",
    "print(\"두과목 점수: %d,%d\"%(score1, score2))\n",
    "print('합계:%d, 평균:%.2f'%(sum, avg))"
   ]
  },
  {
   "cell_type": "code",
   "execution_count": 13,
   "metadata": {},
   "outputs": [
    {
     "name": "stdout",
     "output_type": "stream",
     "text": [
      "name:bryan\n",
      "id:jbk3407, 마일리지:18000\n"
     ]
    }
   ],
   "source": [
    "#ex 2-28\n",
    "name= 'bryan'\n",
    "id = 'jbk3407'\n",
    "point = '18000'\n",
    "\n",
    "print(\"name:{}\".format(name))\n",
    "print((\"id:{}, 마일리지:{}\").format(id, point))"
   ]
  },
  {
   "cell_type": "code",
   "execution_count": 4,
   "metadata": {},
   "outputs": [
    {
     "name": "stdout",
     "output_type": "stream",
     "text": [
      "오늘은\n",
      "2020 5 29\n",
      "입니다\n"
     ]
    }
   ],
   "source": [
    "#sep, end\n",
    "print(\"오늘은\")\n",
    "year =2020\n",
    "month = 5\n",
    "day = 29\n",
    "print(year, month, day)\n",
    "print(\"입니다\")"
   ]
  },
  {
   "cell_type": "code",
   "execution_count": 6,
   "metadata": {},
   "outputs": [
    {
     "name": "stdout",
     "output_type": "stream",
     "text": [
      "오늘은 2020/5/29입니다\n"
     ]
    }
   ],
   "source": [
    "#오늘은 2020/5/29 입니다.\n",
    "print('오늘은', end=' ')\n",
    "print(year, month, day, sep='/', end=\"\")\n",
    "print('입니다')"
   ]
  },
  {
   "cell_type": "code",
   "execution_count": 16,
   "metadata": {},
   "outputs": [
    {
     "name": "stdout",
     "output_type": "stream",
     "text": [
      "이름을 입력하시오: byran\n",
      "byran님 반갑습니다\n"
     ]
    }
   ],
   "source": [
    "#ex 2-31\n",
    "name = input('이름을 입력하시오: ')\n",
    "print('%s님 반갑습니다'%name)"
   ]
  },
  {
   "cell_type": "code",
   "execution_count": 1,
   "metadata": {},
   "outputs": [
    {
     "name": "stdout",
     "output_type": "stream",
     "text": [
      "첫번째 숫자를 입력하세요:20\n",
      "두번째 숫자를 입력하세요:30\n",
      "50\n",
      "<class 'int'> <class 'int'> <class 'int'>\n"
     ]
    }
   ],
   "source": [
    "#ex 2-32\n",
    "a = int(input('첫번째 숫자를 입력하세요:'))\n",
    "b= int(input('두번째 숫자를 입력하세요:'))\n",
    "\n",
    "c= a+b\n",
    "\n",
    "print(c)\n",
    "print(type(a), type(b), type(c))"
   ]
  },
  {
   "cell_type": "code",
   "execution_count": null,
   "metadata": {},
   "outputs": [],
   "source": []
  },
  {
   "cell_type": "code",
   "execution_count": null,
   "metadata": {},
   "outputs": [],
   "source": []
  }
 ],
 "metadata": {
  "kernelspec": {
   "display_name": "Python 3",
   "language": "python",
   "name": "python3"
  },
  "language_info": {
   "codemirror_mode": {
    "name": "ipython",
    "version": 3
   },
   "file_extension": ".py",
   "mimetype": "text/x-python",
   "name": "python",
   "nbconvert_exporter": "python",
   "pygments_lexer": "ipython3",
   "version": "3.7.6"
  }
 },
 "nbformat": 4,
 "nbformat_minor": 4
}
