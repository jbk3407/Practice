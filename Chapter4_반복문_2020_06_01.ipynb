{
 "cells": [
  {
   "cell_type": "markdown",
   "metadata": {},
   "source": [
    "# chapter 4 반복문"
   ]
  },
  {
   "cell_type": "code",
   "execution_count": 1,
   "metadata": {},
   "outputs": [
    {
     "name": "stdout",
     "output_type": "stream",
     "text": [
      "안녕하세요. 0\n",
      "안녕하세요. 1\n",
      "안녕하세요. 2\n",
      "안녕하세요. 3\n",
      "안녕하세요. 4\n"
     ]
    }
   ],
   "source": [
    "#ex 4-1\n",
    "\n",
    "for x in range(5):\n",
    "    print(\"안녕하세요.\", x)"
   ]
  },
  {
   "cell_type": "code",
   "execution_count": 2,
   "metadata": {},
   "outputs": [
    {
     "name": "stdout",
     "output_type": "stream",
     "text": [
      "안녕하세요. 0\n",
      "안녕하세요. 1\n",
      "안녕하세요. 2\n",
      "안녕하세요. 3\n",
      "안녕하세요. 4\n"
     ]
    }
   ],
   "source": [
    "#ex 4-2\n",
    "x=0\n",
    "while x<5:\n",
    "    print('안녕하세요.',x)\n",
    "    x+=1"
   ]
  },
  {
   "cell_type": "code",
   "execution_count": 3,
   "metadata": {},
   "outputs": [
    {
     "name": "stdout",
     "output_type": "stream",
     "text": [
      "5\n",
      "4\n",
      "3\n",
      "2\n",
      "1\n"
     ]
    }
   ],
   "source": [
    "for i in range(5,0,-1):\n",
    "    print(i)"
   ]
  },
  {
   "cell_type": "code",
   "execution_count": 5,
   "metadata": {},
   "outputs": [
    {
     "name": "stdout",
     "output_type": "stream",
     "text": [
      "55\n"
     ]
    }
   ],
   "source": [
    "#ex 4-3\n",
    "sum=0\n",
    "for i in range(1,11):\n",
    "    sum+=i\n",
    "print(sum)"
   ]
  },
  {
   "cell_type": "code",
   "execution_count": 6,
   "metadata": {},
   "outputs": [
    {
     "name": "stdout",
     "output_type": "stream",
     "text": [
      "0123456789\n"
     ]
    }
   ],
   "source": [
    "#ex 4-4\n",
    "for i in range(10):\n",
    "    print(i, end=\"\")\n",
    "print()\n"
   ]
  },
  {
   "cell_type": "code",
   "execution_count": 7,
   "metadata": {},
   "outputs": [
    {
     "name": "stdout",
     "output_type": "stream",
     "text": [
      "12345678910\n"
     ]
    }
   ],
   "source": [
    "for i in range(1, 11):\n",
    "    print(i, end=\"\")\n",
    "print()"
   ]
  },
  {
   "cell_type": "code",
   "execution_count": 10,
   "metadata": {},
   "outputs": [
    {
     "name": "stdout",
     "output_type": "stream",
     "text": [
      "3 6 9 12 15 18 21 24 27 30 33 36 39 42 45 48 51 54 57 60 63 66 69 72 75 78 81 84 87 90 93 96 99 \n",
      " --------------------------------------------------\n",
      "1~100에서 3의 배수의 합계:1683\n"
     ]
    }
   ],
   "source": [
    "#ex 4-5\n",
    "\n",
    "sum=0\n",
    "\n",
    "for i in range(1,101):\n",
    "    if i%3==0:\n",
    "        print('%d'%i, end=\" \")\n",
    "        sum+=i\n",
    "        \n",
    "print('\\n', '-'*50)\n",
    "print('1~100에서 3의 배수의 합계:%d'%sum)"
   ]
  },
  {
   "cell_type": "code",
   "execution_count": 12,
   "metadata": {},
   "outputs": [
    {
     "name": "stdout",
     "output_type": "stream",
     "text": [
      "영어 단어 입력하세요: i love you\n",
      "i\n",
      " \n",
      "l\n",
      "o\n",
      "v\n",
      "e\n",
      " \n",
      "y\n",
      "o\n",
      "u\n"
     ]
    }
   ],
   "source": [
    "#ex 4-6\n",
    "\n",
    "word = input('영어 단어 입력하세요: ')\n",
    "\n",
    "for c in word:\n",
    "    print(c)"
   ]
  },
  {
   "cell_type": "code",
   "execution_count": 14,
   "metadata": {},
   "outputs": [
    {
     "name": "stdout",
     "output_type": "stream",
     "text": [
      "------------------------------\n",
      "    섭씨   화씨\n",
      "------------------------------\n",
      "     -20   -4.0\n",
      "     -15    5.0\n",
      "     -10   14.0\n",
      "      -5   23.0\n",
      "       0   32.0\n",
      "       5   41.0\n",
      "      10   50.0\n",
      "      15   59.0\n",
      "      20   68.0\n",
      "      25   77.0\n",
      "      30   86.0\n",
      "------------------------------\n"
     ]
    }
   ],
   "source": [
    "#ex 4-7\n",
    "\n",
    "print('-'*30)\n",
    "print('    섭씨   화씨')\n",
    "print('-'*30)\n",
    "\n",
    "for c in range(-20, 31, 5):\n",
    "    f = c*9.0/5.0+32.0\n",
    "    print('%8d %6.1f'%(c,f))\n",
    "print('-'*30)"
   ]
  },
  {
   "cell_type": "code",
   "execution_count": 18,
   "metadata": {},
   "outputs": [
    {
     "name": "stdout",
     "output_type": "stream",
     "text": [
      "파이프능ㄹ 뺀 11자리의 휴대폰 번호를 입력하세요: 01056768723\n",
      "010-5676-8723\n"
     ]
    }
   ],
   "source": [
    "#q 4-3\n",
    "\n",
    "phone = input('파이프능ㄹ 뺀 11자리의 휴대폰 번호를 입력하세요: ')\n",
    "\n",
    "number = ''\n",
    "\n",
    "for i in range(len(phone)):\n",
    "    if i== 2:\n",
    "        number = number+(phone[2]+'-')\n",
    "    elif i== 6:\n",
    "        number = number+(phone[6]+'-')\n",
    "    else:\n",
    "        number = number +(phone[i])\n",
    "print(number)"
   ]
  },
  {
   "cell_type": "code",
   "execution_count": 19,
   "metadata": {},
   "outputs": [
    {
     "name": "stdout",
     "output_type": "stream",
     "text": [
      "      10        3.9        0.3        0.0\n",
      "      20        7.9        0.7        0.0\n",
      "      30       11.8        1.0        0.0\n",
      "      40       15.7        1.3        0.0\n",
      "      50       19.7        1.6        0.1\n",
      "      60       23.6        2.0        0.1\n",
      "      70       27.6        2.3        0.1\n",
      "      80       31.5        2.6        0.1\n",
      "      90       35.4        3.0        0.1\n",
      "     100       39.4        3.3        0.1\n",
      "     110       43.3        3.6        0.1\n",
      "     120       47.2        3.9        0.1\n",
      "     130       51.2        4.3        0.1\n",
      "     140       55.1        4.6        0.2\n",
      "     150       59.1        4.9        0.2\n",
      "     160       63.0        5.2        0.2\n",
      "     170       66.9        5.6        0.2\n",
      "     180       70.9        5.9        0.2\n",
      "     190       74.8        6.2        0.2\n",
      "     200       78.7        6.6        0.2\n"
     ]
    }
   ],
   "source": [
    "#q 4-4\n",
    "for cm in range(10,201,10):\n",
    "    inch = cm*0.393701\n",
    "    ft = cm*0.032808\n",
    "    yd = cm*0.0010936\n",
    "    print('%8d %10.1f %10.1f %10.1f'%(cm, inch, ft, yd))\n"
   ]
  },
  {
   "cell_type": "code",
   "execution_count": 21,
   "metadata": {},
   "outputs": [
    {
     "name": "stdout",
     "output_type": "stream",
     "text": [
      "2 x 1 = 2\n",
      "2 x 2 = 4\n",
      "2 x 3 = 6\n",
      "2 x 4 = 8\n",
      "2 x 5 = 10\n",
      "2 x 6 = 12\n",
      "2 x 7 = 14\n",
      "2 x 8 = 16\n",
      "2 x 9 = 18\n"
     ]
    }
   ],
   "source": [
    "#ex 4-8\n",
    "\n",
    "a=2\n",
    "\n",
    "for b in range(1,10):\n",
    "    c=a*b\n",
    "    print('%d x %d = %d' %(a,b,c))"
   ]
  },
  {
   "cell_type": "code",
   "execution_count": 23,
   "metadata": {},
   "outputs": [
    {
     "name": "stdout",
     "output_type": "stream",
     "text": [
      "2 x 1 = 2\n",
      "2 x 2 = 4\n",
      "2 x 3 = 6\n",
      "2 x 4 = 8\n",
      "2 x 5 = 10\n",
      "2 x 6 = 12\n",
      "2 x 7 = 14\n",
      "2 x 8 = 16\n",
      "2 x 9 = 18\n",
      "3 x 1 = 3\n",
      "3 x 2 = 6\n",
      "3 x 3 = 9\n",
      "3 x 4 = 12\n",
      "3 x 5 = 15\n",
      "3 x 6 = 18\n",
      "3 x 7 = 21\n",
      "3 x 8 = 24\n",
      "3 x 9 = 27\n",
      "4 x 1 = 4\n",
      "4 x 2 = 8\n",
      "4 x 3 = 12\n",
      "4 x 4 = 16\n",
      "4 x 5 = 20\n",
      "4 x 6 = 24\n",
      "4 x 7 = 28\n",
      "4 x 8 = 32\n",
      "4 x 9 = 36\n",
      "5 x 1 = 5\n",
      "5 x 2 = 10\n",
      "5 x 3 = 15\n",
      "5 x 4 = 20\n",
      "5 x 5 = 25\n",
      "5 x 6 = 30\n",
      "5 x 7 = 35\n",
      "5 x 8 = 40\n",
      "5 x 9 = 45\n",
      "6 x 1 = 6\n",
      "6 x 2 = 12\n",
      "6 x 3 = 18\n",
      "6 x 4 = 24\n",
      "6 x 5 = 30\n",
      "6 x 6 = 36\n",
      "6 x 7 = 42\n",
      "6 x 8 = 48\n",
      "6 x 9 = 54\n",
      "7 x 1 = 7\n",
      "7 x 2 = 14\n",
      "7 x 3 = 21\n",
      "7 x 4 = 28\n",
      "7 x 5 = 35\n",
      "7 x 6 = 42\n",
      "7 x 7 = 49\n",
      "7 x 8 = 56\n",
      "7 x 9 = 63\n",
      "8 x 1 = 8\n",
      "8 x 2 = 16\n",
      "8 x 3 = 24\n",
      "8 x 4 = 32\n",
      "8 x 5 = 40\n",
      "8 x 6 = 48\n",
      "8 x 7 = 56\n",
      "8 x 8 = 64\n",
      "8 x 9 = 72\n",
      "9 x 1 = 9\n",
      "9 x 2 = 18\n",
      "9 x 3 = 27\n",
      "9 x 4 = 36\n",
      "9 x 5 = 45\n",
      "9 x 6 = 54\n",
      "9 x 7 = 63\n",
      "9 x 8 = 72\n",
      "9 x 9 = 81\n"
     ]
    }
   ],
   "source": [
    "#ex 4-9\n",
    "for a in range(2,10):\n",
    "    for b in range(1,10):\n",
    "        c=a*b\n",
    "        print('%d x %d = %d'%(a,b,c))"
   ]
  },
  {
   "cell_type": "code",
   "execution_count": 26,
   "metadata": {},
   "outputs": [
    {
     "name": "stdout",
     "output_type": "stream",
     "text": [
      "*\n",
      "**\n",
      "***\n",
      "****\n",
      "*****\n",
      "******\n",
      "*******\n",
      "********\n",
      "*********\n",
      "**********\n"
     ]
    }
   ],
   "source": [
    "#q 4-7\n",
    "\n",
    "for i in range(1,11):\n",
    "    for j in range(1,i+1):\n",
    "        print('*', end=\"\")\n",
    "    print()"
   ]
  },
  {
   "cell_type": "code",
   "execution_count": 12,
   "metadata": {},
   "outputs": [
    {
     "name": "stdout",
     "output_type": "stream",
     "text": [
      "    *\n",
      "   **\n",
      "  ***\n",
      " ****\n",
      "*****\n"
     ]
    }
   ],
   "source": [
    "#q 4-8\n",
    "\n",
    "for i in range(1,6):\n",
    "    for s in range(5, i, -1):\n",
    "        print(' ', end=\"\")\n",
    "    for k in range(1, i+1):\n",
    "        print('*', end=\"\")\n",
    "    print()"
   ]
  },
  {
   "cell_type": "code",
   "execution_count": 15,
   "metadata": {},
   "outputs": [
    {
     "name": "stdout",
     "output_type": "stream",
     "text": [
      "1035 46\n"
     ]
    }
   ],
   "source": [
    "# 합이 1000에 가장 가까운 경우는 1에서부터 얼마까지 더한 경우인가?\n",
    "\n",
    "sum=0\n",
    "count=1\n",
    "\n",
    "while True:\n",
    "    \n",
    "    if sum > 1000:\n",
    "        break\n",
    "    sum += count\n",
    "    count +=1\n",
    "print(sum, count)"
   ]
  },
  {
   "cell_type": "code",
   "execution_count": 21,
   "metadata": {},
   "outputs": [
    {
     "name": "stdout",
     "output_type": "stream",
     "text": [
      "i= 1 : 0 \n",
      "i= 2 : 0 1 \n",
      "i= 3 : 0 1 2 \n",
      "i= 4 : 0 1 2 3 \n",
      "i= 5 : 0 1 2 3 4 \n"
     ]
    }
   ],
   "source": [
    "#중첩에서 break\n",
    "\n",
    "for i in range(1,6):\n",
    "    print('i=', i, ':', end=\" \")\n",
    "    for k in range(5):\n",
    "        if k==i:\n",
    "            break;\n",
    "        print(k, end=\" \")\n",
    "    print()\n"
   ]
  },
  {
   "cell_type": "code",
   "execution_count": null,
   "metadata": {},
   "outputs": [],
   "source": []
  }
 ],
 "metadata": {
  "kernelspec": {
   "display_name": "Python 3",
   "language": "python",
   "name": "python3"
  },
  "language_info": {
   "codemirror_mode": {
    "name": "ipython",
    "version": 3
   },
   "file_extension": ".py",
   "mimetype": "text/x-python",
   "name": "python",
   "nbconvert_exporter": "python",
   "pygments_lexer": "ipython3",
   "version": "3.7.6"
  }
 },
 "nbformat": 4,
 "nbformat_minor": 4
}
