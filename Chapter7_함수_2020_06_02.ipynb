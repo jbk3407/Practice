{
 "cells": [
  {
   "cell_type": "markdown",
   "metadata": {},
   "source": [
    "# 7장 함수"
   ]
  },
  {
   "cell_type": "code",
   "execution_count": 2,
   "metadata": {},
   "outputs": [
    {
     "name": "stdout",
     "output_type": "stream",
     "text": [
      "안녕하세요\n",
      "안녕하세요\n",
      "안녕하세요\n"
     ]
    }
   ],
   "source": [
    "#ex 7-1\n",
    "\n",
    "def hello():\n",
    "    print('안녕하세요')\n",
    "hello()\n",
    "hello()\n",
    "hello()"
   ]
  },
  {
   "cell_type": "code",
   "execution_count": 3,
   "metadata": {},
   "outputs": [
    {
     "name": "stdout",
     "output_type": "stream",
     "text": [
      "7 is odd\n",
      "16 is even\n"
     ]
    }
   ],
   "source": [
    "#ex 7-2\n",
    "\n",
    "def even_odd(num):\n",
    "    if num%2==0:\n",
    "        print('%d is even' %num)\n",
    "    else:\n",
    "        print('%d is odd' %num)\n",
    "even_odd(7)\n",
    "even_odd(16)"
   ]
  },
  {
   "cell_type": "code",
   "execution_count": 4,
   "metadata": {},
   "outputs": [
    {
     "name": "stdout",
     "output_type": "stream",
     "text": [
      "김지영님은 빨강을 좋아하지 않습니다.\n",
      "홍채영님은 노랑을 조금 좋아합니다.\n",
      "진소진님은 파랑을 좋아합니다.\n"
     ]
    }
   ],
   "source": [
    "#ex 7-3\n",
    "\n",
    "def favorate_color(name, color, amount):\n",
    "    if(amount==1):\n",
    "        print('%s님은 %s을 좋아하지 않습니다.' %(name, color))\n",
    "    elif(amount==2):\n",
    "        print('%s님은 %s을 조금 좋아합니다.' %(name, color))\n",
    "    else:\n",
    "        print('%s님은 %s을 좋아합니다.' %(name, color))\n",
    "        \n",
    "favorate_color('김지영','빨강',1)\n",
    "favorate_color('홍채영','노랑',2)\n",
    "favorate_color('진소진','파랑',3)"
   ]
  },
  {
   "cell_type": "code",
   "execution_count": 5,
   "metadata": {},
   "outputs": [
    {
     "name": "stdout",
     "output_type": "stream",
     "text": [
      "3과목의 평균 : 90.00\n",
      "4과목의 평균 : 81.75\n",
      "5과목의 평균 : 79.40\n"
     ]
    }
   ],
   "source": [
    "#ex 7-4\n",
    "\n",
    "def average(*scores):\n",
    "    sum=0\n",
    "    for i in range(len(scores)):\n",
    "        sum+=scores[i]\n",
    "        \n",
    "    avg=sum/len(scores)\n",
    "    print('%d과목의 평균 : %.2f' %(len(scores), avg))\n",
    "\n",
    "average(80,90,100)\n",
    "average(75,80,94,78)\n",
    "average(80,73,76,86,82)"
   ]
  },
  {
   "cell_type": "code",
   "execution_count": 6,
   "metadata": {},
   "outputs": [
    {
     "name": "stdout",
     "output_type": "stream",
     "text": [
      "메인 : x= 10 id= 140715451065008\n",
      "func() : x= 100 id = 140715451067888\n",
      "메인 : x= 10 id= 140715451065008\n"
     ]
    }
   ],
   "source": [
    "#ex 7-2\n",
    "\n",
    "def func(x):\n",
    "    x=100\n",
    "    print('func() : x=', x, 'id =', id(x))\n",
    "    \n",
    "x=10\n",
    "print('메인 : x=', x, 'id=', id(x))\n",
    "func(x)\n",
    "print('메인 : x=', x, 'id=', id(x))"
   ]
  },
  {
   "cell_type": "code",
   "execution_count": 7,
   "metadata": {},
   "outputs": [
    {
     "name": "stdout",
     "output_type": "stream",
     "text": [
      "메인:x= [1, 2, 3] id= 1250633627272\n",
      "func(): x= [100, 2, 3] id= 1250633627272\n",
      "메인:x= [100, 2, 3] id= 1250633627272\n"
     ]
    }
   ],
   "source": [
    "#ex 7-6\n",
    "def func(x):\n",
    "    x[0] = 100\n",
    "    print('func(): x=',x, 'id=', id(x))\n",
    "    \n",
    "x=[1,2,3]\n",
    "print('메인:x=',x, 'id=',id(x))\n",
    "func(x)\n",
    "print('메인:x=',x, 'id=',id(x))"
   ]
  },
  {
   "cell_type": "code",
   "execution_count": 8,
   "metadata": {},
   "outputs": [
    {
     "name": "stdout",
     "output_type": "stream",
     "text": [
      "원의 반지름을 입력하세요:10\n",
      "반지름:10, 원의 면적:314.00\n",
      "원의 반지름을 입력하세요:13\n",
      "반지름:13, 원의 면적:530.66\n"
     ]
    }
   ],
   "source": [
    "#ex 7-7\n",
    "\n",
    "def circle_area(r):\n",
    "    area = r*r*3.14\n",
    "    \n",
    "    return area\n",
    "\n",
    "radius = int(input('원의 반지름을 입력하세요:'))\n",
    "result = circle_area(radius)\n",
    "\n",
    "print('반지름:%d, 원의 면적:%.2f' %(radius,result))\n",
    "\n",
    "radius = int(input('원의 반지름을 입력하세요:'))\n",
    "result = circle_area(radius)\n",
    "\n",
    "print('반지름:%d, 원의 면적:%.2f' %(radius,result))\n"
   ]
  },
  {
   "cell_type": "code",
   "execution_count": 9,
   "metadata": {},
   "outputs": [
    {
     "name": "stdout",
     "output_type": "stream",
     "text": [
      "10~100의 정수 합계 : 5005\n",
      "100~1000의 정수 합계 : 495550\n",
      "1000~10000의 정수 합계 : 49505500\n"
     ]
    }
   ],
   "source": [
    "#Q 7-1\n",
    "\n",
    "def sum(start, end):\n",
    "    total = 0\n",
    "    for i in range(start, end+1):\n",
    "        total+=i\n",
    "    print('%d~%d의 정수 합계 : %d' %(start, end, total))\n",
    "sum(10,100)\n",
    "sum(100, 1000)\n",
    "sum(1000, 10000)"
   ]
  },
  {
   "cell_type": "code",
   "execution_count": 23,
   "metadata": {},
   "outputs": [
    {
     "name": "stdout",
     "output_type": "stream",
     "text": [
      "시작 수를 입력하세요1\n",
      "끝 수를 입력하세요1\n",
      "합계를 구할 배수를 선택하세요1\n",
      "1~1의 정수 중 1의 배수의 합 : 1\n"
     ]
    }
   ],
   "source": [
    "#Q 7-2\n",
    "\n",
    "def sum_besu(n1, n2, num):\n",
    "    sum=0\n",
    "    for i in range(n1, n2+1):\n",
    "        if i%num==0:\n",
    "            sum+=i\n",
    "    return sum\n",
    "\n",
    "start=int(input('시작 수를 입력하세요'))\n",
    "end = int(input('끝 수를 입력하세요'))\n",
    "besu = int(input('합계를 구할 배수를 선택하세요'))\n",
    "\n",
    "result = sum_besu(start, end, besu)\n",
    "\n",
    "print('%d~%d의 정수 중 %d의 배수의 합 : %d' %(start, end, besu, result))"
   ]
  },
  {
   "cell_type": "code",
   "execution_count": null,
   "metadata": {},
   "outputs": [],
   "source": [
    "#Q 7-3\n",
    "\n",
    "def maxgong(x,y):\n",
    "    if x>y:\n",
    "        small=y\n",
    "    else:\n",
    "        small=x\n",
    "        \n",
    "    for i in range(1,small+1):\n",
    "        if((x%i==0) and (y%i==0)):\n",
    "            result = i\n",
    "    return result\n",
    "\n",
    "num1 = int(input('첫번재 수를 입력하세요'))\n",
    "num2 = int(input('두번째 수를 입력하세요'))\n",
    "\n",
    "M=maxgong(num1, num2)\n",
    "\n",
    "print('%d와 %d의 최대공약수 : %d' %(num1, num2, M))"
   ]
  },
  {
   "cell_type": "code",
   "execution_count": null,
   "metadata": {},
   "outputs": [],
   "source": [
    "#ex 7-8\n",
    "\n",
    "x=lambda a: a**2\n",
    "\n",
    "print(x(5))\n",
    "print(x(10))"
   ]
  },
  {
   "cell_type": "code",
   "execution_count": null,
   "metadata": {},
   "outputs": [],
   "source": [
    "#ex 7-9\n",
    "\n",
    "f=lambda x,y,z : x+y+z\n",
    "print(f(10,20,30))\n",
    "\n",
    "def mul(n):\n",
    "    return lambda x:x*n\n",
    "\n",
    "g = mul(3)\n",
    "h = mul(5)\n",
    "\n",
    "print(g(10))\n",
    "print(h(10))"
   ]
  },
  {
   "cell_type": "code",
   "execution_count": null,
   "metadata": {},
   "outputs": [],
   "source": [
    "#ex 7-10\n",
    "\n",
    "def func():\n",
    "    x = 10\n",
    "    print(x)\n",
    "    \n",
    "func()\n",
    "print(x)"
   ]
  },
  {
   "cell_type": "code",
   "execution_count": null,
   "metadata": {},
   "outputs": [],
   "source": [
    "#ex 7-11\n",
    "\n",
    "def fucn():\n",
    "    print(x)\n",
    "    print(id(x))\n",
    "    \n",
    "x=10\n",
    "print(x)\n",
    "print(id(x))\n",
    "func()"
   ]
  },
  {
   "cell_type": "code",
   "execution_count": null,
   "metadata": {},
   "outputs": [],
   "source": [
    "#ex 7-12\n",
    "\n",
    "def func():\n",
    "    x=100\n",
    "    print(x)\n",
    "    print(id(x))\n",
    "    \n",
    "x=10\n",
    "print(x)\n",
    "print(id(x))\n",
    "\n",
    "func()\n",
    "\n",
    "print(x)\n",
    "print(id(x))"
   ]
  },
  {
   "cell_type": "code",
   "execution_count": null,
   "metadata": {},
   "outputs": [],
   "source": [
    "#ex 7-13\n",
    "\n",
    "def func():\n",
    "    global x\n",
    "    x=100\n",
    "    print(x)\n",
    "    print(id(x))\n",
    "    \n",
    "x=10\n",
    "print(x)\n",
    "func()\n",
    "print(x)\n",
    "print(id(x))"
   ]
  },
  {
   "cell_type": "code",
   "execution_count": 24,
   "metadata": {},
   "outputs": [],
   "source": [
    "#완전수 구하기\n",
    "\n",
    "#완전수란: 자기 자신을 제외한 약수의 합이 자기가 되는 수.\n",
    "#ex) 6의 약수 1,2,3,6 -> 6제외한 수를 다 더하면 6이 나옴.\n",
    "\n",
    "def perfect(num):\n",
    "    sum=0\n",
    "    for i in range(1,num):\n",
    "        if num%i==0:\n",
    "            sum=sum+i\n",
    "        return sum\n",
    "    \n"
   ]
  },
  {
   "cell_type": "code",
   "execution_count": 25,
   "metadata": {},
   "outputs": [],
   "source": [
    "for num in range(1,10001):\n",
    "    if n == perfect(n):\n",
    "        print(n)"
   ]
  },
  {
   "cell_type": "code",
   "execution_count": null,
   "metadata": {},
   "outputs": [],
   "source": []
  },
  {
   "cell_type": "code",
   "execution_count": null,
   "metadata": {},
   "outputs": [],
   "source": []
  }
 ],
 "metadata": {
  "kernelspec": {
   "display_name": "Python 3",
   "language": "python",
   "name": "python3"
  },
  "language_info": {
   "codemirror_mode": {
    "name": "ipython",
    "version": 3
   },
   "file_extension": ".py",
   "mimetype": "text/x-python",
   "name": "python",
   "nbconvert_exporter": "python",
   "pygments_lexer": "ipython3",
   "version": "3.7.6"
  }
 },
 "nbformat": 4,
 "nbformat_minor": 4
}
