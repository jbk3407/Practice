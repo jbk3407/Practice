{
 "cells": [
  {
   "cell_type": "markdown",
   "metadata": {},
   "source": [
    "# 연습문제 6장"
   ]
  },
  {
   "cell_type": "code",
   "execution_count": 5,
   "metadata": {},
   "outputs": [
    {
     "name": "stdout",
     "output_type": "stream",
     "text": [
      "아이디 : kim99, 마일리지 : 12000\n",
      "아이디 : lee66, 마일리지 : 11000\n",
      "아이디 : han55, 마일리지 : 3000\n",
      "아이디 : hong77, 마일리지 : 5000\n",
      "아이디 : hwang33, 마일리지 : 18000\n"
     ]
    }
   ],
   "source": [
    "#6-1\n",
    "\n",
    "info = {'kim99':12000, 'lee66':11000, 'han55':3000, 'hong77':5000, 'hwang33':18000}\n",
    "\n",
    "for i in info:\n",
    "    print('아이디 : %s, 마일리지 : %d' %(i, info[i]))"
   ]
  },
  {
   "cell_type": "code",
   "execution_count": 9,
   "metadata": {},
   "outputs": [
    {
     "name": "stdout",
     "output_type": "stream",
     "text": [
      "han55 님의 마일리지가 5000점으로 수정 되었습니다\n"
     ]
    }
   ],
   "source": [
    "#6-2\n",
    "\n",
    "info = {'kim99':12000, 'lee66':11000, 'han55':3000, 'hong77':5000, 'hwang33':18000}\n",
    "info['han55']=5000\n",
    "\n",
    "print('han55 님의 마일리지가 %d점으로 수정 되었습니다'%info['han55'] )"
   ]
  },
  {
   "cell_type": "code",
   "execution_count": 12,
   "metadata": {},
   "outputs": [
    {
     "name": "stdout",
     "output_type": "stream",
     "text": [
      "전체 딕셔너리 :  {'kim99': 12000, 'lee66': 11000, 'han55': 3000, 'hong77': 5000, 'hwang33': 18000, 'jang88': 7000}\n",
      "jang88님의 마일리지(7000점)가 추가되었습니다.\n"
     ]
    }
   ],
   "source": [
    "#6-3\n",
    "\n",
    "info = {'kim99':12000, 'lee66':11000, 'han55':3000, 'hong77':5000, 'hwang33':18000}\n",
    "info['jang88'] = 7000\n",
    "\n",
    "print('전체 딕셔너리 : ',info)\n",
    "print('jang88님의 마일리지(%d점)가 추가되었습니다.' %(info['jang88']))"
   ]
  },
  {
   "cell_type": "code",
   "execution_count": 73,
   "metadata": {},
   "outputs": [
    {
     "name": "stdout",
     "output_type": "stream",
     "text": [
      "hwang33님의 18000점이 가장 높은 점수입니다.\n"
     ]
    }
   ],
   "source": [
    "#6-4\n",
    "\n",
    "info = {'kim99':12000, 'lee66':11000, 'han55':3000, 'hong77':5000, 'hwang33':18000}\n",
    "\n",
    "x = max(info.values())\n",
    "\n",
    "for i in info:\n",
    "    if info[i]==x:\n",
    "        print('%s님의 %d점이 가장 높은 점수입니다.' %(i, x))\n"
   ]
  },
  {
   "cell_type": "code",
   "execution_count": 69,
   "metadata": {},
   "outputs": [
    {
     "name": "stdout",
     "output_type": "stream",
     "text": [
      "--------------------------------------------------\n",
      "   월    화    수    목    금    토    일 \n",
      "25.5℃  28.3℃  33.2℃  32.1℃  17.3℃  35.3℃  33.3℃  \n",
      "--------------------------------------------------\n"
     ]
    }
   ],
   "source": [
    "#6-5\n",
    "\n",
    "temp = {'월': 25.5, '화':28.3, '수':33.2, '목':32.1, '금':17.3, '토':35.3, '일':33.3}\n",
    "\n",
    "print('-'*50)\n",
    "for i in temp:\n",
    "    print('%4s' %i, end=\" \")\n",
    "print()\n",
    "\n",
    "for j in temp:    \n",
    "    print('%3.1f℃' %temp[j], end=\"  \")\n",
    "print()    \n",
    "print('-'*50)"
   ]
  },
  {
   "cell_type": "code",
   "execution_count": 105,
   "metadata": {},
   "outputs": [
    {
     "name": "stdout",
     "output_type": "stream",
     "text": [
      "가장 낮은 기온 : 17.3\n"
     ]
    }
   ],
   "source": [
    "#6-6\n",
    "\n",
    "temp = {'월': 25.5, '화':28.3, '수':33.2, '목':32.1, '금':17.3, '토':35.3, '일':33.3}\n",
    "\n",
    "m=100\n",
    "\n",
    "for i in temp:\n",
    "    if temp[i]<m:\n",
    "        m=temp[i]\n",
    "\n",
    "print('가장 낮은 기온 : %.1f' %m)"
   ]
  },
  {
   "cell_type": "code",
   "execution_count": 94,
   "metadata": {},
   "outputs": [
    {
     "name": "stdout",
     "output_type": "stream",
     "text": [
      "기온이 30℃ 이상인 요일 : 수 목 토 일 "
     ]
    }
   ],
   "source": [
    "#6-7\n",
    "\n",
    "temp = {'월': 25.5, '화':28.3, '수':33.2, '목':32.1, '금':17.3, '토':35.3, '일':33.3}\n",
    "\n",
    "print('기온이 30℃ 이상인 요일 : ', end='')\n",
    "\n",
    "for i in temp:\n",
    "    if temp[i]>=30:\n",
    "        print(i, end=\" \")"
   ]
  },
  {
   "cell_type": "code",
   "execution_count": 95,
   "metadata": {},
   "outputs": [
    {
     "name": "stdout",
     "output_type": "stream",
     "text": [
      "일주일간 최고 기온의 평균 : 29.3\n"
     ]
    }
   ],
   "source": [
    "#6-8\n",
    "\n",
    "temp = {'월': 25.5, '화':28.3, '수':33.2, '목':32.1, '금':17.3, '토':35.3, '일':33.3}\n",
    "\n",
    "sum=0\n",
    "\n",
    "for i in temp:\n",
    "    sum+=temp[i]\n",
    "avg = sum/len(temp)\n",
    "\n",
    "print('일주일간 최고 기온의 평균 : %.1f'%avg)"
   ]
  },
  {
   "cell_type": "markdown",
   "metadata": {},
   "source": [
    "# 7장 연습문제"
   ]
  },
  {
   "cell_type": "code",
   "execution_count": 106,
   "metadata": {},
   "outputs": [
    {
     "name": "stdout",
     "output_type": "stream",
     "text": [
      "2010\n"
     ]
    }
   ],
   "source": [
    "# 7-1 (나)\n",
    "\n",
    "def f1(a):\n",
    "    a +=10\n",
    "    print(a, end=\"\")\n",
    "\n",
    "a = 10\n",
    "f1(a)\n",
    "print(a)"
   ]
  },
  {
   "cell_type": "code",
   "execution_count": 107,
   "metadata": {},
   "outputs": [
    {
     "name": "stdout",
     "output_type": "stream",
     "text": [
      "300100300\n"
     ]
    }
   ],
   "source": [
    "# 7-2 (다)\n",
    "\n",
    "def f2(a):\n",
    "    global y\n",
    "    y+=a\n",
    "    x=500\n",
    "    print(y, end=\"\")\n",
    "    \n",
    "x=100\n",
    "y=200\n",
    "f2(x)\n",
    "print(x, end='')\n",
    "print(y)"
   ]
  },
  {
   "cell_type": "code",
   "execution_count": 121,
   "metadata": {},
   "outputs": [
    {
     "name": "stdout",
     "output_type": "stream",
     "text": [
      "n값을 입력해 주세요20\n",
      "2 3 5 7 11 13 17 19 "
     ]
    }
   ],
   "source": [
    "# 7-3\n",
    "\n",
    "def prime(n):\n",
    "    for i in range(2,n+1):\n",
    "        x=True\n",
    "        for j in range(2,i):\n",
    "            if i%j==0:\n",
    "                x=False\n",
    "                break\n",
    "        if x:\n",
    "            print(i, end=' ')\n",
    "        \n",
    "            \n",
    "num = int(input('n값을 입력해 주세요'))\n",
    "\n",
    "prime(num)"
   ]
  },
  {
   "cell_type": "code",
   "execution_count": 122,
   "metadata": {},
   "outputs": [
    {
     "name": "stdout",
     "output_type": "stream",
     "text": [
      "문자열을 입력하세요i am hungry\n",
      "yrgnuh ma i\n"
     ]
    }
   ],
   "source": [
    "# 7-4\n",
    "\n",
    "def f1(x):\n",
    "    print(x[::-1])\n",
    "\n",
    "a=str(input('문자열을 입력하세요'))\n",
    "\n",
    "f1(a) "
   ]
  },
  {
   "cell_type": "code",
   "execution_count": 123,
   "metadata": {},
   "outputs": [
    {
     "name": "stdout",
     "output_type": "stream",
     "text": [
      "[1, 4, 9, 16, 25]\n"
     ]
    }
   ],
   "source": [
    "# 7-5\n",
    "\n",
    "def numSquare(num):\n",
    "    list_new=[]\n",
    "    for i in range(1, num+1):\n",
    "        list_new.append(i**2)\n",
    "        \n",
    "    return list_new\n",
    "\n",
    "n=5\n",
    "result = numSquare(n)\n",
    "print(result)"
   ]
  },
  {
   "cell_type": "code",
   "execution_count": 147,
   "metadata": {},
   "outputs": [
    {
     "name": "stdout",
     "output_type": "stream",
     "text": [
      "첫 번째 수를 입력하세요8\n",
      "두 번재 수를 입력하세요20\n",
      "8와 20의 최소공배수 : 40\n"
     ]
    }
   ],
   "source": [
    "# 7-6\n",
    "\n",
    "def great(x, y):\n",
    "    \n",
    "    if y>x:\n",
    "        temp=x\n",
    "        x=y\n",
    "        y=temp\n",
    "        \n",
    "    while y>0:\n",
    "        z=y\n",
    "        y=x%y\n",
    "        x=z\n",
    "    return x\n",
    "\n",
    "def least(x,y):\n",
    "    return x*y//great(x,y)\n",
    "\n",
    "a=int(input('첫 번째 수를 입력하세요'))\n",
    "b=int(input('두 번재 수를 입력하세요'))\n",
    "\n",
    "print('%d와 %d의 최소공배수 : %d' %(a, b, least(a,b)))"
   ]
  },
  {
   "cell_type": "code",
   "execution_count": 167,
   "metadata": {},
   "outputs": [
    {
     "name": "stdout",
     "output_type": "stream",
     "text": [
      "**비밀번호는 10자리 이상, 영문 대문자를 포함하여야 합니다.\n",
      "비밀번호 : 3677848\n",
      "비밀번호 확인 : 3677848\n",
      "비밀번호가 잘못되었습니다! 다시입력해 주세요!\n",
      "비밀번호 : A123456789\n",
      "비밀번호 확인 : asdfsadf\n",
      "비밀번호와 비밀번호 확인이 서로 다릅니다! 다시 입력해 주세요!\n",
      "비밀번호 : 8723\n",
      "비밀번호 확인 : 7832\n",
      "비밀번호가 잘못되었습니다! 다시입력해 주세요!\n",
      "비밀번호 : A123456789\n",
      "비밀번호 확인 : A123456789\n",
      "유효한 비밀번호 입니다~~\n"
     ]
    }
   ],
   "source": [
    "# 7-7\n",
    "\n",
    "def password(a):\n",
    "\n",
    "    if len(a)<10:\n",
    "        return False\n",
    "    \n",
    "    is_num = False\n",
    "    is_upper = False\n",
    "    \n",
    "    for i in a:\n",
    "        if i>='A' and i<='Z':\n",
    "            is_upper = True\n",
    "        if i>='0' and i<='9':\n",
    "            is_num = True\n",
    "    return is_upper and is_num\n",
    "            \n",
    "print('**비밀번호는 10자리 이상, 영문 대문자를 포함하여야 합니다.')\n",
    "\n",
    "\n",
    "x1 = input('비밀번호 : ')\n",
    "x2 = input('비밀번호 확인 : ')\n",
    "\n",
    "while True:\n",
    "    if password(x1) and x1==x2:\n",
    "        break\n",
    "    else:\n",
    "        if not password(x1):\n",
    "            print('비밀번호가 잘못되었습니다! 다시입력해 주세요!')\n",
    "        else:\n",
    "            print('비밀번호와 비밀번호 확인이 서로 다릅니다! 다시 입력해 주세요!')\n",
    "    \n",
    "    x1 = input('비밀번호 : ')\n",
    "    x2 = input('비밀번호 확인 : ')\n",
    "print('유효한 비밀번호 입니다~~')"
   ]
  },
  {
   "cell_type": "code",
   "execution_count": 172,
   "metadata": {},
   "outputs": [
    {
     "name": "stdout",
     "output_type": "stream",
     "text": [
      "[77, 36, 29, 11, 20, 6, 91, 33]\n",
      "정렬된 수:\n",
      "6 11 20 29 33 36 77 91 "
     ]
    }
   ],
   "source": [
    "# 7-8\n",
    "numbers=[77, 36, 29, 11, 20, 6, 91, 33]\n",
    "\n",
    "def sort(x):\n",
    "    print('정렬된 수:')\n",
    "    x.sort()\n",
    "    for i in range(len(x)):\n",
    "        print(x[i], end=\" \")\n",
    "    \n",
    "\n",
    "print(numbers)\n",
    "sort(numbers)"
   ]
  },
  {
   "cell_type": "code",
   "execution_count": null,
   "metadata": {},
   "outputs": [],
   "source": []
  }
 ],
 "metadata": {
  "kernelspec": {
   "display_name": "Python 3",
   "language": "python",
   "name": "python3"
  },
  "language_info": {
   "codemirror_mode": {
    "name": "ipython",
    "version": 3
   },
   "file_extension": ".py",
   "mimetype": "text/x-python",
   "name": "python",
   "nbconvert_exporter": "python",
   "pygments_lexer": "ipython3",
   "version": "3.7.6"
  }
 },
 "nbformat": 4,
 "nbformat_minor": 4
}
