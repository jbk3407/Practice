{
 "cells": [
  {
   "cell_type": "code",
   "execution_count": 3,
   "metadata": {},
   "outputs": [
    {
     "name": "stdout",
     "output_type": "stream",
     "text": [
      "숫자를 입력하세요 : 10\n",
      "양수\n"
     ]
    }
   ],
   "source": [
    "#ex 3-1\n",
    "\n",
    "x = int(input('숫자를 입력하세요 : '))\n",
    "\n",
    "if x>0:\n",
    "    print('양수')\n",
    "else:\n",
    "    print('음수')"
   ]
  },
  {
   "cell_type": "code",
   "execution_count": 4,
   "metadata": {},
   "outputs": [
    {
     "name": "stdout",
     "output_type": "stream",
     "text": [
      "숫자를 입력하세요 : 0\n",
      "0\n"
     ]
    }
   ],
   "source": [
    "\n",
    "\n",
    "x = int(input('숫자를 입력하세요 : '))\n",
    "\n",
    "if x>0:\n",
    "    print('양수')\n",
    "else:\n",
    "    if x<0:\n",
    "        print('음수')\n",
    "    else:\n",
    "        print('0')"
   ]
  },
  {
   "cell_type": "code",
   "execution_count": null,
   "metadata": {
    "scrolled": true
   },
   "outputs": [
    {
     "name": "stdout",
     "output_type": "stream",
     "text": [
      "num1\n",
      "pos\n",
      "neg\n",
      "num2\n",
      "pos\n",
      "neg\n",
      "num3\n",
      "pos\n",
      "neg\n"
     ]
    }
   ],
   "source": [
    "while True:\n",
    "   \n",
    "    x=int(input('num'))\n",
    "    if x>0:\n",
    "        print('pos')\n",
    "    else:\n",
    "        print('neg')\n",
    "        \n",
    "    if x==0:\n",
    "        print('0')\n",
    "        break\n",
    "        \n",
    "    \n",
    "    \n"
   ]
  },
  {
   "cell_type": "code",
   "execution_count": null,
   "metadata": {},
   "outputs": [],
   "source": []
  },
  {
   "cell_type": "code",
   "execution_count": null,
   "metadata": {},
   "outputs": [],
   "source": []
  },
  {
   "cell_type": "code",
   "execution_count": null,
   "metadata": {},
   "outputs": [],
   "source": []
  }
 ],
 "metadata": {
  "kernelspec": {
   "display_name": "Python 3",
   "language": "python",
   "name": "python3"
  }
 },
 "nbformat": 4,
 "nbformat_minor": 4
}
