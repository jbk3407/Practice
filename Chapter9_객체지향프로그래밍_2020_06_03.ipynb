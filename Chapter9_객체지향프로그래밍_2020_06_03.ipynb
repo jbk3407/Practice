{
 "cells": [
  {
   "cell_type": "markdown",
   "metadata": {},
   "source": [
    "# 9장 객체지향 프로그래밍"
   ]
  },
  {
   "cell_type": "code",
   "execution_count": 1,
   "metadata": {},
   "outputs": [],
   "source": [
    "#ex 9-1\n",
    "\n",
    "class Calculator:\n",
    "    def __init__(self, x, y): #__init__ : 생성자  #first, second = 속성.\n",
    "        self.first = x\n",
    "        self.second = y\n",
    "        \n",
    "    def add(self):\n",
    "        result = self.first + self.second\n",
    "        return result\n",
    "    \n",
    "    def sub(self):\n",
    "        result = self.first - self.second\n",
    "        return result"
   ]
  },
  {
   "cell_type": "code",
   "execution_count": 2,
   "metadata": {},
   "outputs": [
    {
     "name": "stdout",
     "output_type": "stream",
     "text": [
      "300\n",
      "-100\n"
     ]
    }
   ],
   "source": [
    "cal1 = Calculator(100,200)\n",
    "\n",
    "print(cal1.add())\n",
    "print(cal1.sub())"
   ]
  },
  {
   "cell_type": "code",
   "execution_count": 3,
   "metadata": {},
   "outputs": [
    {
     "name": "stdout",
     "output_type": "stream",
     "text": [
      "400\n",
      "200\n"
     ]
    }
   ],
   "source": [
    "cal2 = Calculator(300,100)\n",
    "\n",
    "print(cal2.add())\n",
    "print(cal2.sub())"
   ]
  },
  {
   "cell_type": "code",
   "execution_count": 4,
   "metadata": {},
   "outputs": [
    {
     "name": "stdout",
     "output_type": "stream",
     "text": [
      "300 100\n"
     ]
    }
   ],
   "source": [
    "print(cal2.first, cal2.second)"
   ]
  },
  {
   "cell_type": "code",
   "execution_count": 5,
   "metadata": {},
   "outputs": [
    {
     "data": {
      "text/plain": [
       "1100"
      ]
     },
     "execution_count": 5,
     "metadata": {},
     "output_type": "execute_result"
    }
   ],
   "source": [
    "cal2.first=500\n",
    "cal2.second=600\n",
    "\n",
    "cal2.add()"
   ]
  },
  {
   "cell_type": "markdown",
   "metadata": {},
   "source": [
    "# 비공개 속성"
   ]
  },
  {
   "cell_type": "code",
   "execution_count": 6,
   "metadata": {},
   "outputs": [],
   "source": [
    "\n",
    "\n",
    "class Person:\n",
    "    def __init__(self,name,age, address, wallet):\n",
    "        self.name = name\n",
    "        self.age = age\n",
    "        self.address = address\n",
    "        self.__wallet = wallet #__ 는 비공개 속성으로 만듬 \n",
    "        \n",
    "    def to_string(self):\n",
    "        print('%s %d %s %d' %(self.name, self.age, self.address, self.__wallet))\n"
   ]
  },
  {
   "cell_type": "code",
   "execution_count": 7,
   "metadata": {},
   "outputs": [
    {
     "data": {
      "text/plain": [
       "'마리아'"
      ]
     },
     "execution_count": 7,
     "metadata": {},
     "output_type": "execute_result"
    }
   ],
   "source": [
    "maria = Person('마리아', 20, '서울시', 10000)\n",
    "maria.name"
   ]
  },
  {
   "cell_type": "code",
   "execution_count": 8,
   "metadata": {},
   "outputs": [
    {
     "name": "stdout",
     "output_type": "stream",
     "text": [
      "마리아 20 서울시 10000\n"
     ]
    }
   ],
   "source": [
    "maria.to_string()"
   ]
  },
  {
   "cell_type": "markdown",
   "metadata": {},
   "source": [
    "# 상속"
   ]
  },
  {
   "cell_type": "code",
   "execution_count": 9,
   "metadata": {},
   "outputs": [],
   "source": [
    "class Person:                       #부모 클래스\n",
    "    def greeting(self):\n",
    "        print('안녕하세요.')\n",
    "        \n",
    "        \n",
    "class Student(Person):            #자식 클래스\n",
    "    def study(self):\n",
    "        print('공부하기')"
   ]
  },
  {
   "cell_type": "code",
   "execution_count": 10,
   "metadata": {},
   "outputs": [
    {
     "name": "stdout",
     "output_type": "stream",
     "text": [
      "공부하기\n",
      "안녕하세요.\n"
     ]
    }
   ],
   "source": [
    "james = Student()\n",
    "james.study()\n",
    "james.greeting()"
   ]
  },
  {
   "cell_type": "code",
   "execution_count": 11,
   "metadata": {},
   "outputs": [],
   "source": [
    "class Person:\n",
    "    def __init__(self, name):\n",
    "        self.name = name\n",
    "        \n",
    "    def greeting(self):\n",
    "        print('안녕하세요.')\n",
    "        \n",
    "        \n",
    "class Student(Person):            \n",
    "    def study(self):\n",
    "        print('공부하기')"
   ]
  },
  {
   "cell_type": "code",
   "execution_count": 12,
   "metadata": {},
   "outputs": [],
   "source": [
    "bryan = Student('bryan')"
   ]
  },
  {
   "cell_type": "code",
   "execution_count": 13,
   "metadata": {},
   "outputs": [
    {
     "data": {
      "text/plain": [
       "'bryan'"
      ]
     },
     "execution_count": 13,
     "metadata": {},
     "output_type": "execute_result"
    }
   ],
   "source": [
    "bryan.name"
   ]
  },
  {
   "cell_type": "markdown",
   "metadata": {},
   "source": [
    "# 다형성 - 메소드 오버라이딩"
   ]
  },
  {
   "cell_type": "code",
   "execution_count": 14,
   "metadata": {},
   "outputs": [],
   "source": [
    "class Person2:\n",
    "\n",
    "    def greeting(self):\n",
    "        print('안녕하세요.')\n",
    "        \n",
    "        \n",
    "class Student2(Person2):\n",
    "    def study(self):\n",
    "        print('공부하기')\n",
    "        \n",
    "    def greeting(self):\n",
    "        print('안녕하세요, 파이썬 수업을 듣고 있는 학생입니다')"
   ]
  },
  {
   "cell_type": "code",
   "execution_count": 15,
   "metadata": {},
   "outputs": [
    {
     "name": "stdout",
     "output_type": "stream",
     "text": [
      "안녕하세요, 파이썬 수업을 듣고 있는 학생입니다\n"
     ]
    }
   ],
   "source": [
    "jason = Student2()\n",
    "jason.greeting()"
   ]
  },
  {
   "cell_type": "code",
   "execution_count": 32,
   "metadata": {},
   "outputs": [
    {
     "name": "stdout",
     "output_type": "stream",
     "text": [
      "반지름 : 10\n",
      "원의 면적 : 314.16\n",
      "원의 둘레 : 62.83\n"
     ]
    }
   ],
   "source": [
    "# Q9-1\n",
    "\n",
    "import math\n",
    "\n",
    "class Circle:\n",
    "    \n",
    "    def __init__(self, radius):\n",
    "        self.radius = radius\n",
    "        \n",
    "    def getArea(self):\n",
    "        area = math.pi * self.radius*self.radius\n",
    "        return area\n",
    "    \n",
    "    def getCircum(self):\n",
    "        circum = math.pi *2 *self.radius\n",
    "        return circum\n",
    "    \n",
    "cir = Circle(10)\n",
    "print('반지름 : %d' %cir.radius)\n",
    "print('원의 면적 : %.2f' %cir.getArea())\n",
    "print('원의 둘레 : %.2f' %cir.getCircum())"
   ]
  },
  {
   "cell_type": "code",
   "execution_count": 40,
   "metadata": {},
   "outputs": [
    {
     "name": "stdout",
     "output_type": "stream",
     "text": [
      "-3과목 합계와 평균\n",
      "이름 : 김성윤\n",
      "국어 : 85, 영어 : 90, 수학 : 83\n",
      "합계 : 258, 평균 : 86\n"
     ]
    }
   ],
   "source": [
    "#Q 9-2\n",
    "\n",
    "class SumAvg:\n",
    "    title = '-3과목 합계와 평균'\n",
    "    def __init__(self, name, kor, eng, math):\n",
    "        self.name = name\n",
    "        self.kor = kor\n",
    "        self.eng = eng\n",
    "        self.math = math\n",
    "        \n",
    "    def getSum(self):\n",
    "        sum = self.kor + self.eng + self.math\n",
    "        return sum\n",
    "    \n",
    "\n",
    "s1 = SumAvg('김성윤', 85, 90, 83)\n",
    "\n",
    "print(SumAvg.title)\n",
    "print('이름 : %s' %s1.name)\n",
    "print('국어 : %s, 영어 : %s, 수학 : %s' %(s1.kor, s1.eng, s1.math))\n",
    "print('합계 : %d, 평균 : %.f' %(s1.getSum(), s1.getSum()/3))\n"
   ]
  },
  {
   "cell_type": "code",
   "execution_count": 43,
   "metadata": {},
   "outputs": [
    {
     "name": "stdout",
     "output_type": "stream",
     "text": [
      "첫번째 수10\n",
      "두번째 수20\n",
      "10 - 20 = -10\n",
      "10 / 20 = 0\n"
     ]
    }
   ],
   "source": [
    "#Q 9-3\n",
    "\n",
    "class Calculator:\n",
    "    def __init__(self, num1, num2):\n",
    "        self.num1 = num1\n",
    "        self.num2 = num2\n",
    "        \n",
    "    def add(self):\n",
    "        return self.num1 + self.num2\n",
    "    \n",
    "    def sub(self):\n",
    "        return self.num1 - self.num2\n",
    "    \n",
    "    def mul(self):\n",
    "        return self.num1 * self.num2\n",
    "    \n",
    "    def div(self):\n",
    "        return self.num1 / self.num2\n",
    "    \n",
    "a = int(input('첫번째 수'))\n",
    "b = int(input('두번째 수'))\n",
    "\n",
    "cal1 = Calculator(a,b)\n",
    "\n",
    "print('%d - %d = %d' %(a, b, cal1.sub()))\n",
    "print('%d / %d = %d' %(a, b, cal1.div()))"
   ]
  },
  {
   "cell_type": "code",
   "execution_count": 45,
   "metadata": {},
   "outputs": [
    {
     "name": "stdout",
     "output_type": "stream",
     "text": [
      "성명 김지해\n",
      "이메일 dasdf@naver.com\n",
      "전화 010-1123-123\n"
     ]
    }
   ],
   "source": [
    "#Q 9-4\n",
    "\n",
    "class Person:\n",
    "    def __init__(self,info):\n",
    "        self.info = info\n",
    "        \n",
    "    def getName(self):\n",
    "        return self.info[0]\n",
    "    \n",
    "    def getEmail(self):\n",
    "        return self.info[1]\n",
    "    \n",
    "    def getPhone(self):\n",
    "        return self.info[2]\n",
    "    \n",
    "info = ['김지해', 'dasdf@naver.com', '010-1123-123']\n",
    "  \n",
    "print('성명', person.getName())\n",
    "print('이메일', person.getEmail())\n",
    "print('전화', person.getPhone())"
   ]
  },
  {
   "cell_type": "code",
   "execution_count": 101,
   "metadata": {},
   "outputs": [
    {
     "name": "stdout",
     "output_type": "stream",
     "text": [
      "!snoipmahc eht era ew\n",
      "we-are-the-champions!\n"
     ]
    }
   ],
   "source": [
    "# Q9-5\n",
    "\n",
    "class EngSentence:\n",
    "    def __init__(self, sentence):\n",
    "        self.sentence = sentence\n",
    "        self.length = len(self.sentence)\n",
    "        \n",
    "    def reverse(self):\n",
    "        tmp = ''\n",
    "        for i in range(self.length):\n",
    "            tmp=tmp+self.sentence[-(i+1)]\n",
    "        return tmp\n",
    "    \n",
    "    def insertHypen(self):\n",
    "        tmp = ''\n",
    "        for i in range(self.length):\n",
    "            if self.sentence[i]==\" \":\n",
    "                tmp+='-'\n",
    "            else:\n",
    "                tmp+=self.sentence[i]\n",
    "        return tmp\n",
    "        \n",
    "a='we are the champions!'\n",
    "\n",
    "eng1 = EngSentence(a)\n",
    "\n",
    "print(eng1.reverse())\n",
    "print(eng1.insertHypen())"
   ]
  },
  {
   "cell_type": "code",
   "execution_count": null,
   "metadata": {},
   "outputs": [],
   "source": []
  }
 ],
 "metadata": {
  "kernelspec": {
   "display_name": "Python 3",
   "language": "python",
   "name": "python3"
  },
  "language_info": {
   "codemirror_mode": {
    "name": "ipython",
    "version": 3
   },
   "file_extension": ".py",
   "mimetype": "text/x-python",
   "name": "python",
   "nbconvert_exporter": "python",
   "pygments_lexer": "ipython3",
   "version": "3.7.6"
  }
 },
 "nbformat": 4,
 "nbformat_minor": 4
}
