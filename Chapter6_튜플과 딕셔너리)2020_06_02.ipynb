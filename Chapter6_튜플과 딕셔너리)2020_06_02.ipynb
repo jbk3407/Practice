{
 "cells": [
  {
   "cell_type": "markdown",
   "metadata": {},
   "source": [
    "# 6장 튜플과 딕셔너리"
   ]
  },
  {
   "cell_type": "markdown",
   "metadata": {},
   "source": [
    "# 튜플"
   ]
  },
  {
   "cell_type": "code",
   "execution_count": 1,
   "metadata": {},
   "outputs": [
    {
     "name": "stdout",
     "output_type": "stream",
     "text": [
      "('coffee', 'milk', 'tea', 'cider')\n",
      "coffee\n",
      "tea\n",
      "('coffee', 'milk', 'tea')\n"
     ]
    },
    {
     "ename": "TypeError",
     "evalue": "'tuple' object does not support item assignment",
     "output_type": "error",
     "traceback": [
      "\u001b[1;31m---------------------------------------------------------------------------\u001b[0m",
      "\u001b[1;31mTypeError\u001b[0m                                 Traceback (most recent call last)",
      "\u001b[1;32m<ipython-input-1-e7bf8f99936a>\u001b[0m in \u001b[0;36m<module>\u001b[1;34m\u001b[0m\n\u001b[0;32m      8\u001b[0m \u001b[0mprint\u001b[0m\u001b[1;33m(\u001b[0m\u001b[0mmenu\u001b[0m\u001b[1;33m[\u001b[0m\u001b[1;36m0\u001b[0m\u001b[1;33m:\u001b[0m\u001b[1;36m3\u001b[0m\u001b[1;33m]\u001b[0m\u001b[1;33m)\u001b[0m\u001b[1;33m\u001b[0m\u001b[1;33m\u001b[0m\u001b[0m\n\u001b[0;32m      9\u001b[0m \u001b[1;33m\u001b[0m\u001b[0m\n\u001b[1;32m---> 10\u001b[1;33m \u001b[0mmenu\u001b[0m\u001b[1;33m[\u001b[0m\u001b[1;36m1\u001b[0m\u001b[1;33m]\u001b[0m\u001b[1;33m=\u001b[0m\u001b[1;34m'cola'\u001b[0m\u001b[1;33m\u001b[0m\u001b[1;33m\u001b[0m\u001b[0m\n\u001b[0m",
      "\u001b[1;31mTypeError\u001b[0m: 'tuple' object does not support item assignment"
     ]
    }
   ],
   "source": [
    "#ex 6-1 (튜플은 수정이 불가!!)\n",
    "\n",
    "menu = ('coffee', 'milk', 'tea', 'cider')\n",
    "\n",
    "print(menu)\n",
    "print(menu[0])\n",
    "print(menu[2])\n",
    "print(menu[0:3])\n",
    "\n",
    "menu[1]='cola'"
   ]
  },
  {
   "cell_type": "code",
   "execution_count": 4,
   "metadata": {},
   "outputs": [
    {
     "name": "stdout",
     "output_type": "stream",
     "text": [
      "('apple', 'banana', 'cherry', 'orange', 'melon', 'strawberry')\n",
      "6\n",
      "apple\n",
      "banana\n",
      "cherry\n"
     ]
    }
   ],
   "source": [
    "# ex 6-2\n",
    "\n",
    "tuple1 = ('apple', 'banana', 'cherry')\n",
    "tuple2 = ('orange', 'melon', 'strawberry')\n",
    "\n",
    "tuple3 = tuple1+tuple2\n",
    "\n",
    "print(tuple3)\n",
    "print(len(tuple3))\n",
    "\n",
    "\n",
    "for x in tuple1:\n",
    "    print(x)\n",
    "del tuple1\n"
   ]
  },
  {
   "cell_type": "code",
   "execution_count": 13,
   "metadata": {},
   "outputs": [
    {
     "name": "stdout",
     "output_type": "stream",
     "text": [
      "구구단표\n",
      "______________________________\n",
      "2 x 1 = 2\n",
      "2 x 2 = 4\n",
      "2 x 3 = 6\n",
      "2 x 4 = 8\n",
      "2 x 5 = 10\n",
      "2 x 6 = 12\n",
      "2 x 7 = 14\n",
      "2 x 8 = 16\n",
      "2 x 9 = 18\n",
      "______________________________\n",
      "3 x 1 = 3\n",
      "3 x 2 = 6\n",
      "3 x 3 = 9\n",
      "3 x 4 = 12\n",
      "3 x 5 = 15\n",
      "3 x 6 = 18\n",
      "3 x 7 = 21\n",
      "3 x 8 = 24\n",
      "3 x 9 = 27\n",
      "______________________________\n",
      "4 x 1 = 4\n",
      "4 x 2 = 8\n",
      "4 x 3 = 12\n",
      "4 x 4 = 16\n",
      "4 x 5 = 20\n",
      "4 x 6 = 24\n",
      "4 x 7 = 28\n",
      "4 x 8 = 32\n",
      "4 x 9 = 36\n",
      "______________________________\n",
      "5 x 1 = 5\n",
      "5 x 2 = 10\n",
      "5 x 3 = 15\n",
      "5 x 4 = 20\n",
      "5 x 5 = 25\n",
      "5 x 6 = 30\n",
      "5 x 7 = 35\n",
      "5 x 8 = 40\n",
      "5 x 9 = 45\n",
      "______________________________\n",
      "6 x 1 = 6\n",
      "6 x 2 = 12\n",
      "6 x 3 = 18\n",
      "6 x 4 = 24\n",
      "6 x 5 = 30\n",
      "6 x 6 = 36\n",
      "6 x 7 = 42\n",
      "6 x 8 = 48\n",
      "6 x 9 = 54\n",
      "______________________________\n",
      "7 x 1 = 7\n",
      "7 x 2 = 14\n",
      "7 x 3 = 21\n",
      "7 x 4 = 28\n",
      "7 x 5 = 35\n",
      "7 x 6 = 42\n",
      "7 x 7 = 49\n",
      "7 x 8 = 56\n",
      "7 x 9 = 63\n",
      "______________________________\n",
      "8 x 1 = 8\n",
      "8 x 2 = 16\n",
      "8 x 3 = 24\n",
      "8 x 4 = 32\n",
      "8 x 5 = 40\n",
      "8 x 6 = 48\n",
      "8 x 7 = 56\n",
      "8 x 8 = 64\n",
      "8 x 9 = 72\n",
      "______________________________\n",
      "9 x 1 = 9\n",
      "9 x 2 = 18\n",
      "9 x 3 = 27\n",
      "9 x 4 = 36\n",
      "9 x 5 = 45\n",
      "9 x 6 = 54\n",
      "9 x 7 = 63\n",
      "9 x 8 = 72\n",
      "9 x 9 = 81\n",
      "______________________________\n"
     ]
    }
   ],
   "source": [
    "# q6-1\n",
    "\n",
    "dan = (2,3,4,5,6,7,8,9)\n",
    "\n",
    "print('구구단표')\n",
    "print('_'*30)\n",
    "\n",
    "for x in dan:\n",
    "    for i in range(1,10):\n",
    "        print('%d x %d = %d' %(x, i, x*i))\n",
    "    print('_'*30)"
   ]
  },
  {
   "cell_type": "code",
   "execution_count": 16,
   "metadata": {},
   "outputs": [
    {
     "name": "stdout",
     "output_type": "stream",
     "text": [
      "관리자 아이디를 입력하세요 : admin\n",
      "관리자 비밀번호를 입력하세요 : 12345\n",
      "관리자 입니다\n"
     ]
    }
   ],
   "source": [
    "#q6-2\n",
    "\n",
    "admin_info=('admin', '12345', 'jbk3407@naver.com')\n",
    "\n",
    "id = input('관리자 아이디를 입력하세요 : ')\n",
    "passward = input('관리자 비밀번호를 입력하세요 : ')\n",
    "\n",
    "if id == admin_info[0] and passward == admin_info[1]:\n",
    "    print('관리자 입니다')\n",
    "else:\n",
    "    print('아이디 또는 비밀번호가 잘못 입력되었습니다.')"
   ]
  },
  {
   "cell_type": "code",
   "execution_count": 22,
   "metadata": {},
   "outputs": [
    {
     "name": "stdout",
     "output_type": "stream",
     "text": [
      "(1, 3, 5, 7, 9)\n",
      "(1, 3, 5, 7, 9)\n"
     ]
    }
   ],
   "source": [
    "#튜플 만들기\n",
    "\n",
    "a=(1,3,5,7,9)\n",
    "odds = tuple(range(1,10,2))\n",
    "print(a)\n",
    "print(odds)"
   ]
  },
  {
   "cell_type": "code",
   "execution_count": 28,
   "metadata": {},
   "outputs": [
    {
     "name": "stdout",
     "output_type": "stream",
     "text": [
      "(1, 4, 9, 16, 25)\n",
      "(1, 4, 9, 16, 25)\n"
     ]
    }
   ],
   "source": [
    "a = (1,4,9,16,25)\n",
    "pow = tuple(i*i for i in range(1,6))\n",
    "print(a)\n",
    "print(pow)"
   ]
  },
  {
   "cell_type": "code",
   "execution_count": 34,
   "metadata": {},
   "outputs": [
    {
     "name": "stdout",
     "output_type": "stream",
     "text": [
      "(1, 9, 25, 49, 81)\n"
     ]
    }
   ],
   "source": [
    "odd_squ = tuple(i*i for i in range(1,10) if i%2==1)\n",
    "print(odd_squ)"
   ]
  },
  {
   "cell_type": "code",
   "execution_count": 49,
   "metadata": {},
   "outputs": [
    {
     "name": "stdout",
     "output_type": "stream",
     "text": [
      "(11, 55, 99)\n",
      "(11, 55, 99)\n"
     ]
    }
   ],
   "source": [
    "a = (11,22,33,44,55,66,77,88,99)\n",
    "print(a[0:9:4])\n",
    "print(a[::4])"
   ]
  },
  {
   "cell_type": "markdown",
   "metadata": {},
   "source": [
    "# 딕셔너리"
   ]
  },
  {
   "cell_type": "code",
   "execution_count": 20,
   "metadata": {},
   "outputs": [
    {
     "name": "stdout",
     "output_type": "stream",
     "text": [
      "{'name': '안지영', 'age': '30', 'email': 'jiyoung@korea.com'}\n",
      "안지영\n",
      "30\n",
      "길이 : 3\n"
     ]
    }
   ],
   "source": [
    "#ex 6-3\n",
    "\n",
    "members = {'name':'안지영', 'age':'30', 'email':'jiyoung@korea.com'}\n",
    "\n",
    "print(members)\n",
    "print(members['name'])\n",
    "print(members['age'])\n",
    "\n",
    "print('길이 : %d' %(len(members)))"
   ]
  },
  {
   "cell_type": "code",
   "execution_count": 29,
   "metadata": {},
   "outputs": [
    {
     "name": "stdout",
     "output_type": "stream",
     "text": [
      "{'kor': 95, 'eng': 85, 'math': 90, 'science': 80}\n",
      "70\n",
      "{'kor': 70, 'eng': 85, 'math': 90, 'science': 80, 'music': 100}\n",
      "{'kor': 70, 'eng': 85, 'math': 90, 'music': 100}\n",
      "이름 : 안진영\n",
      "국어 : 70\n",
      "영어 : 85\n",
      "수학 : 90\n"
     ]
    }
   ],
   "source": [
    "#ex 6-4\n",
    "\n",
    "name = '안진영'\n",
    "scores = {'kor':95, 'eng':85, 'math':90, 'science':80}\n",
    "print(scores)\n",
    "\n",
    "scores['kor']=70\n",
    "print(scores['kor'])\n",
    "\n",
    "scores['music']=100\n",
    "print(scores)\n",
    "\n",
    "del scores['science']\n",
    "print(scores)\n",
    "\n",
    "print('이름 : %s' %name)\n",
    "print('국어 : %d' %scores['kor'])\n",
    "print('영어 : %d' %scores['eng'])\n",
    "print('수학 : %d' %scores['math'])"
   ]
  },
  {
   "cell_type": "code",
   "execution_count": 36,
   "metadata": {},
   "outputs": [
    {
     "name": "stdout",
     "output_type": "stream",
     "text": [
      "{'갤럭시노트8': 2017, '갤럭시 S9': 2018, '갤럭시노트10': 2019, '갤럭시S20': 2020}\n",
      "갤럭시노트8 => 2017\n",
      "갤럭시 S9 => 2018\n",
      "갤럭시노트10 => 2019\n",
      "갤럭시S20 => 2020\n",
      "4\n"
     ]
    }
   ],
   "source": [
    "#ex 6-5\n",
    "\n",
    "phones = {'갤럭시노트8':2017, '갤럭시 S9':2018, '갤럭시노트10':2019, '갤럭시S20':2020}\n",
    "\n",
    "print(phones)\n",
    "\n",
    "for i in phones:\n",
    "    print('%s => %s' %(i, phones[i]))\n",
    "    \n",
    "print(len(phones))"
   ]
  },
  {
   "cell_type": "code",
   "execution_count": 43,
   "metadata": {},
   "outputs": [
    {
     "name": "stdout",
     "output_type": "stream",
     "text": [
      "김예진 : 90\n",
      "박영진 : 95\n",
      "김소희 : 84\n",
      "합계 : 269, 평균 : 89.67\n"
     ]
    }
   ],
   "source": [
    "#q 6-3\n",
    "\n",
    "scores = {'김예진':90, '박영진':95, '김소희':84}\n",
    "\n",
    "sum = 0\n",
    "\n",
    "for i in scores:\n",
    "    sum+=scores[i]\n",
    "    \n",
    "    print('%s : %d' %(i, scores[i]))\n",
    "avg = sum/len(scores)\n",
    "\n",
    "print('합계 : %d, 평균 : %.2f' %(sum, avg))"
   ]
  },
  {
   "cell_type": "code",
   "execution_count": 45,
   "metadata": {},
   "outputs": [
    {
     "name": "stdout",
     "output_type": "stream",
     "text": [
      "아이디를 입력하세요 : admin\n",
      "비밀번호를 입력하세요 : 11111\n",
      "모든 정보에 접근 가능합니다\n"
     ]
    }
   ],
   "source": [
    "#q 6-4\n",
    "\n",
    "ad = {'id':'admin', 'pass':'11111'}\n",
    "\n",
    "in_id = input('아이디를 입력하세요 : ')\n",
    "in_pass = input('비밀번호를 입력하세요 : ')\n",
    "\n",
    "if(in_id==ad['id'] and in_pass==ad['pass']):\n",
    "    print('모든 정보에 접근 가능합니다')\n",
    "else:\n",
    "    print('접근제한!')"
   ]
  },
  {
   "cell_type": "code",
   "execution_count": 47,
   "metadata": {},
   "outputs": [
    {
     "name": "stdout",
     "output_type": "stream",
     "text": [
      "사과에 해당되는 영어 단어를 입력해주세요:apple\n",
      "정답입니다\n",
      "컴퓨터에 해당되는 영어 단어를 입력해주세요:commputer\n",
      "틀렸습니다\n",
      "학교에 해당되는 영어 단어를 입력해주세요:school\n",
      "정답입니다\n",
      "책상에 해당되는 영어 단어를 입력해주세요:desk\n",
      "정답입니다\n",
      "의자에 해당되는 영어 단어를 입력해주세요:chait\n",
      "틀렸습니다\n"
     ]
    }
   ],
   "source": [
    "# q6-5\n",
    "\n",
    "words = {'사과':'apple', '컴퓨터':'computer', '학교':'school', '책상':'desk', '의자':'chair'}\n",
    "\n",
    "for i in words:\n",
    "    in_word = input('%s에 해당되는 영어 단어를 입력해주세요:' %i)\n",
    "    \n",
    "    if in_word == words[i]:\n",
    "        print('정답입니다')\n",
    "    else:\n",
    "        print('틀렸습니다')"
   ]
  },
  {
   "cell_type": "code",
   "execution_count": null,
   "metadata": {},
   "outputs": [],
   "source": []
  }
 ],
 "metadata": {
  "kernelspec": {
   "display_name": "Python 3",
   "language": "python",
   "name": "python3"
  },
  "language_info": {
   "codemirror_mode": {
    "name": "ipython",
    "version": 3
   },
   "file_extension": ".py",
   "mimetype": "text/x-python",
   "name": "python",
   "nbconvert_exporter": "python",
   "pygments_lexer": "ipython3",
   "version": "3.7.6"
  }
 },
 "nbformat": 4,
 "nbformat_minor": 4
}
