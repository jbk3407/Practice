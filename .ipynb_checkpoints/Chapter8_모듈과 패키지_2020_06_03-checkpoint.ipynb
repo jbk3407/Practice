{
 "cells": [
  {
   "cell_type": "markdown",
   "metadata": {},
   "source": [
    "# 8장 모듈과 패키지"
   ]
  },
  {
   "cell_type": "code",
   "execution_count": 1,
   "metadata": {},
   "outputs": [],
   "source": [
    "# 함수의 재귀적 호출\n",
    "def facto(n):\n",
    "    if n ==0:\n",
    "        return 1\n",
    "    return n*facto(n-1)"
   ]
  },
  {
   "cell_type": "code",
   "execution_count": 2,
   "metadata": {},
   "outputs": [
    {
     "data": {
      "text/plain": [
       "120"
      ]
     },
     "execution_count": 2,
     "metadata": {},
     "output_type": "execute_result"
    }
   ],
   "source": [
    "facto(5)"
   ]
  },
  {
   "cell_type": "code",
   "execution_count": 3,
   "metadata": {},
   "outputs": [
    {
     "name": "stdout",
     "output_type": "stream",
     "text": [
      "1,1,2,3,5,8,13,21,34,55,89,144,233,377,610,987,1597,2584,4181,"
     ]
    }
   ],
   "source": [
    "def fibo(n):\n",
    "    if n==1 or n==2:\n",
    "        return 1\n",
    "    return fibo(n-1)+fibo(n-2)\n",
    "\n",
    "for i in range(1,20):\n",
    "    print(fibo(i), end=\",\")"
   ]
  },
  {
   "cell_type": "code",
   "execution_count": 46,
   "metadata": {},
   "outputs": [
    {
     "name": "stdout",
     "output_type": "stream",
     "text": [
      "1,1\n",
      "2,1\n",
      "6,2\n",
      "24,3\n",
      "120,5\n",
      "720,8\n",
      "5040,13\n",
      "40320,21\n",
      "362880,34\n",
      "3628800,55\n",
      "39916800,89\n",
      "479001600,144\n",
      "6227020800,233\n",
      "87178291200,377\n",
      "1307674368000,610\n",
      "20922789888000,987\n",
      "355687428096000,1597\n",
      "6402373705728000,2584\n",
      "121645100408832000,4181\n"
     ]
    }
   ],
   "source": [
    "import usefull\n",
    "\n",
    "for i in range(1,20):\n",
    "    print(usefull.facto(i), end=\",\")\n",
    "    print(usefull.fibo(i))"
   ]
  },
  {
   "cell_type": "markdown",
   "metadata": {},
   "source": [
    "# 모듈 생성하기"
   ]
  },
  {
   "cell_type": "code",
   "execution_count": 35,
   "metadata": {},
   "outputs": [
    {
     "name": "stdout",
     "output_type": "stream",
     "text": [
      "안지수님 안녕하세요.\n",
      "홍지영님 반갑습니다.\n",
      "황예림님 만나서 반가워요.\n"
     ]
    }
   ],
   "source": [
    "#ex 8-2\n",
    "\n",
    "import greet\n",
    "\n",
    "print(greet.hello1('안지수'))\n",
    "print(greet.hello2('홍지영'))\n",
    "print(greet.hello3('황예림'))"
   ]
  },
  {
   "cell_type": "code",
   "execution_count": 36,
   "metadata": {},
   "outputs": [
    {
     "name": "stdout",
     "output_type": "stream",
     "text": [
      "김영진님 안녕하세요.\n",
      "10.0\n",
      "박소정님 반갑습니다.\n",
      "10.0\n",
      "한은정님 만나서 반가워요.\n",
      "10.0\n",
      "한은정님 반갑습니다.\n",
      "10.0 0.8414709848078965\n"
     ]
    }
   ],
   "source": [
    "#ex 8-3\n",
    "\n",
    "import greet\n",
    "import math\n",
    "print(greet.hello1('김영진'))\n",
    "print(math.sqrt(100))\n",
    "\n",
    "import greet as gr\n",
    "import math as m\n",
    "print(gr.hello2('박소정'))\n",
    "print(m.sqrt(100))\n",
    "\n",
    "from greet import hello3\n",
    "from math import sqrt\n",
    "print(hello3('한은정'))\n",
    "print(sqrt(100))\n",
    "\n",
    "from greet import*\n",
    "from math import *\n",
    "print(hello2('한은정'))\n",
    "print(sqrt(100),sin(1))"
   ]
  },
  {
   "cell_type": "code",
   "execution_count": 4,
   "metadata": {},
   "outputs": [
    {
     "name": "stdout",
     "output_type": "stream",
     "text": [
      "floor(7.7 : 7)\n",
      "ceil(10.1 : 11)\n",
      "round(8.6 : 9)\n",
      "5의 팩토리얼 : 120\n"
     ]
    }
   ],
   "source": [
    "#ex8-4\n",
    "import math\n",
    "\n",
    "print('floor(7.7 : %d)'%math.floor(7.7))\n",
    "print('ceil(10.1 : %d)'%math.ceil(10.1))\n",
    "print('round(8.6 : %d)' %round(8.6))\n",
    "print('5의 팩토리얼 : %d' %math.factorial(5))"
   ]
  },
  {
   "cell_type": "code",
   "execution_count": 5,
   "metadata": {},
   "outputs": [
    {
     "name": "stdout",
     "output_type": "stream",
     "text": [
      "sin(pi/2) : 1.00\n",
      "cos(pi) : -1.00\n",
      "tan(pi*2) : -0.00\n",
      "2의 4승 : 16\n",
      "49의 제곱근 : 7\n",
      "log10(100) : 2.00\n"
     ]
    }
   ],
   "source": [
    "#ex 8-5\n",
    "\n",
    "import math as m\n",
    "\n",
    "print('sin(pi/2) : %.2f' %m.sin(m.pi/2))\n",
    "print('cos(pi) : %.2f' %m.cos(m.pi))\n",
    "print('tan(pi*2) : %.2f' %m.tan(m.pi*2))\n",
    "\n",
    "print('2의 4승 : %d' %m.pow(2,4))\n",
    "print('49의 제곱근 : %d' %m.sqrt(49))\n",
    "print('log10(100) : %.2f' %m.log10(100))"
   ]
  },
  {
   "cell_type": "code",
   "execution_count": 6,
   "metadata": {},
   "outputs": [
    {
     "name": "stdout",
     "output_type": "stream",
     "text": [
      "0.13261044206737038\n",
      "0.5829349339424897\n",
      "0.8009597049048587\n"
     ]
    }
   ],
   "source": [
    "#ex 8-6\n",
    "\n",
    "import random\n",
    "\n",
    "for i in range(3):\n",
    "    print(random.random())"
   ]
  },
  {
   "cell_type": "code",
   "execution_count": 9,
   "metadata": {},
   "outputs": [
    {
     "name": "stdout",
     "output_type": "stream",
     "text": [
      "9\n",
      "1\n",
      "7\n",
      "3\n",
      "7\n"
     ]
    }
   ],
   "source": [
    "#ex 8-7\n",
    "\n",
    "import random\n",
    "\n",
    "for i in range(5):\n",
    "    \n",
    "    print(random.randrange(1,11,2))"
   ]
  },
  {
   "cell_type": "code",
   "execution_count": 12,
   "metadata": {},
   "outputs": [
    {
     "name": "stdout",
     "output_type": "stream",
     "text": [
      "5\n",
      "4\n",
      "1\n",
      "4\n",
      "5\n"
     ]
    }
   ],
   "source": [
    "#ex 8-8\n",
    "import random\n",
    "\n",
    "for i in range(5):\n",
    "    print(random.randint(1,6))"
   ]
  },
  {
   "cell_type": "code",
   "execution_count": 13,
   "metadata": {},
   "outputs": [
    {
     "name": "stdout",
     "output_type": "stream",
     "text": [
      "가위\n",
      "바위\n",
      "보\n",
      "바위\n",
      "보\n"
     ]
    }
   ],
   "source": [
    "#ex 8-9\n",
    "\n",
    "import random\n",
    "\n",
    "toss = ['가위', '바위', '보']\n",
    "\n",
    "for i in range(5):\n",
    "    print(random.choice(toss))"
   ]
  },
  {
   "cell_type": "code",
   "execution_count": 14,
   "metadata": {},
   "outputs": [
    {
     "name": "stdout",
     "output_type": "stream",
     "text": [
      "['사과', '오렌지', '바나나']\n",
      "['사과', '바나나', '오렌지']\n",
      "['바나나', '오렌지', '사과']\n"
     ]
    }
   ],
   "source": [
    "#ex 8-10\n",
    "\n",
    "import random\n",
    "\n",
    "fruits = ['사과', '바나나','오렌지']\n",
    "\n",
    "for i in range(3):\n",
    "    random.shuffle(fruits)\n",
    "    print(fruits)"
   ]
  },
  {
   "cell_type": "code",
   "execution_count": 15,
   "metadata": {},
   "outputs": [
    {
     "name": "stdout",
     "output_type": "stream",
     "text": [
      "------------------------------\n",
      "주사위 던지기 : 1번째\n",
      "나 : 1\n",
      "컴퓨터 : 5\n",
      "컴퓨터 승리!\n",
      "계속하시려면 y를 입력하세요y\n",
      "------------------------------\n",
      "주사위 던지기 : 2번째\n",
      "나 : 4\n",
      "컴퓨터 : 6\n",
      "컴퓨터 승리!\n",
      "계속하시려면 y를 입력하세요y\n",
      "------------------------------\n",
      "주사위 던지기 : 3번째\n",
      "나 : 6\n",
      "컴퓨터 : 1\n",
      "나의 승리!\n",
      "계속하시려면 y를 입력하세요\n"
     ]
    }
   ],
   "source": [
    "#ex 8-11\n",
    "\n",
    "import random\n",
    "\n",
    "again = 'y'\n",
    "count = 1\n",
    "\n",
    "while again =='y':\n",
    "    print('-'*30)\n",
    "    print('주사위 던지기 : %d번째' %count)\n",
    "    \n",
    "    me = random.randint(1,6)\n",
    "    computer = random.randint(1,6)\n",
    "    \n",
    "    print('나 : %d' %me)\n",
    "    print('컴퓨터 : %d' %computer)\n",
    "    \n",
    "    if me > computer:\n",
    "        print('나의 승리!')\n",
    "    elif me == computer:\n",
    "        print('무승무!')\n",
    "    else:\n",
    "        print('컴퓨터 승리!')\n",
    "        \n",
    "    count +=1\n",
    "    \n",
    "    again = input('계속하시려면 y를 입력하세요')"
   ]
  },
  {
   "cell_type": "code",
   "execution_count": 17,
   "metadata": {},
   "outputs": [
    {
     "name": "stdout",
     "output_type": "stream",
     "text": [
      "------------------------------\n",
      "가위 바위 보 게임\n",
      "------------------------------\n",
      "나 : 보\n",
      "당신 : 가위\n",
      "나의 승리입니다!\n",
      "------------------------------\n",
      "계속하시려면 y 를 누르세요y\n",
      "\n",
      "나 : 바위\n",
      "당신 : 가위\n",
      "나의 승리입니다!\n",
      "------------------------------\n",
      "계속하시려면 y 를 누르세요y\n",
      "\n",
      "나 : 보\n",
      "당신 : 보\n",
      "무승부 입니다!\n",
      "------------------------------\n",
      "계속하시려면 y 를 누르세요y\n",
      "\n",
      "나 : 바위\n",
      "당신 : 바위\n",
      "무승부입니다!\n",
      "------------------------------\n",
      "계속하시려면 y 를 누르세요\n",
      "\n"
     ]
    }
   ],
   "source": [
    "#ex 8-12\n",
    "\n",
    "import random\n",
    "\n",
    "def whoWin(x,y):\n",
    "    if x=='가위':\n",
    "        if y=='가위':\n",
    "            msg = '무승부 입니다!'\n",
    "        elif y=='바위':\n",
    "            msg = '당신의 승리입니다!'\n",
    "        else:\n",
    "            msg = '나의 승리입니다!'\n",
    "            \n",
    "    elif x=='바위':\n",
    "        if y=='가위':\n",
    "            msg = '나의 승리입니다!'\n",
    "        elif y=='바위':\n",
    "            msg = '무승부입니다!'\n",
    "        else:\n",
    "            msg = '당신의 승리입니다!'\n",
    "            \n",
    "    else:\n",
    "        if y=='가위':\n",
    "            msg = '나의 승리입니다!'\n",
    "        elif y=='바위':\n",
    "            msg = '당신의 승리입니다!'\n",
    "        else:\n",
    "            msg = '무승부 입니다!'\n",
    "    \n",
    "    return msg\n",
    "\n",
    "print('-'*30)\n",
    "print('가위 바위 보 게임')\n",
    "print('-'*30)\n",
    "\n",
    "GBB = ['가위', '바위', '보']\n",
    "\n",
    "again = 'y'\n",
    "\n",
    "while again=='y':\n",
    "    me = random.choice(GBB)\n",
    "    you = random.choice(GBB)\n",
    "    \n",
    "    result = whoWin(me, you)\n",
    "    \n",
    "    print('나 : %s' %me)\n",
    "    print('당신 : %s' %you)\n",
    "    print(result)\n",
    "    print('-'*30)\n",
    "    \n",
    "    again = input('계속하시려면 y 를 누르세요')\n",
    "    print()"
   ]
  },
  {
   "cell_type": "markdown",
   "metadata": {},
   "source": [
    "# datetime 모듈"
   ]
  },
  {
   "cell_type": "code",
   "execution_count": 25,
   "metadata": {},
   "outputs": [
    {
     "name": "stdout",
     "output_type": "stream",
     "text": [
      "2020-06-03 10:09:23.190381\n"
     ]
    }
   ],
   "source": [
    "from datetime import datetime\n",
    "\n",
    "today = datetime.now()\n",
    "print(today)"
   ]
  },
  {
   "cell_type": "code",
   "execution_count": 27,
   "metadata": {},
   "outputs": [
    {
     "name": "stdout",
     "output_type": "stream",
     "text": [
      "2020 6 3\n",
      "10 9 23\n",
      "2\n"
     ]
    }
   ],
   "source": [
    "print(today.year, today.month, today.day)\n",
    "print(today.hour, today.minute, today.second)\n",
    "print(today.weekday())"
   ]
  },
  {
   "cell_type": "code",
   "execution_count": 31,
   "metadata": {},
   "outputs": [
    {
     "data": {
      "text/plain": [
       "'2020-06-03 10:09:23'"
      ]
     },
     "execution_count": 31,
     "metadata": {},
     "output_type": "execute_result"
    }
   ],
   "source": [
    "today.strftime('%Y-%m-%d %H:%M:%S')"
   ]
  },
  {
   "cell_type": "code",
   "execution_count": 32,
   "metadata": {},
   "outputs": [
    {
     "data": {
      "text/plain": [
       "'20200603 10:09:23'"
      ]
     },
     "execution_count": 32,
     "metadata": {},
     "output_type": "execute_result"
    }
   ],
   "source": [
    "today.strftime('%Y%m%d %H:%M:%S')"
   ]
  },
  {
   "cell_type": "code",
   "execution_count": 47,
   "metadata": {},
   "outputs": [
    {
     "data": {
      "text/plain": [
       "'20200603AM 10:09:23'"
      ]
     },
     "execution_count": 47,
     "metadata": {},
     "output_type": "execute_result"
    }
   ],
   "source": [
    "today.strftime('%Y%m%d%p %H:%M:%S')"
   ]
  },
  {
   "cell_type": "code",
   "execution_count": null,
   "metadata": {},
   "outputs": [],
   "source": []
  }
 ],
 "metadata": {
  "kernelspec": {
   "display_name": "Python 3",
   "language": "python",
   "name": "python3"
  },
  "language_info": {
   "codemirror_mode": {
    "name": "ipython",
    "version": 3
   },
   "file_extension": ".py",
   "mimetype": "text/x-python",
   "name": "python",
   "nbconvert_exporter": "python",
   "pygments_lexer": "ipython3",
   "version": "3.7.6"
  }
 },
 "nbformat": 4,
 "nbformat_minor": 4
}
