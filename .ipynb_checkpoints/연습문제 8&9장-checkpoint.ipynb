{
 "cells": [
  {
   "cell_type": "markdown",
   "metadata": {},
   "source": [
    "# 8장"
   ]
  },
  {
   "cell_type": "code",
   "execution_count": null,
   "metadata": {},
   "outputs": [],
   "source": [
    "#8-1\n",
    "\n",
    "from lib import inc_10\n",
    "print(inc_10(5))"
   ]
  },
  {
   "cell_type": "code",
   "execution_count": null,
   "metadata": {},
   "outputs": [],
   "source": [
    "#8-2\n",
    "\n",
    "import lib\n",
    "\n",
    "a=lib.mul_20(3)\n",
    "b = a+lib.fact(1,3)\n",
    "c = a+b+lib.inc_10(2)\n",
    "print(c)"
   ]
  },
  {
   "cell_type": "code",
   "execution_count": null,
   "metadata": {},
   "outputs": [],
   "source": [
    "#8-3\n",
    "\n",
    "import lib as lb\n",
    "\n",
    "a=1\n",
    "b=2\n",
    "c=3\n",
    "\n",
    "d=lb.fact(a,b)\n",
    "d+=lb.inc_10(c)\n",
    "e=d+lb.mul_20(a)\n",
    "print(e)"
   ]
  },
  {
   "cell_type": "markdown",
   "metadata": {},
   "source": [
    "#8-4 \n",
    "(다)"
   ]
  },
  {
   "cell_type": "markdown",
   "metadata": {},
   "source": [
    "#8-5\n",
    "(라)"
   ]
  },
  {
   "cell_type": "code",
   "execution_count": null,
   "metadata": {},
   "outputs": [],
   "source": [
    "#8-6\n",
    "\n",
    "import random\n",
    "again = 'y'\n",
    "\n",
    "while again=='y':\n",
    "\n",
    "    me = random.randint(1,6)\n",
    "    computer = random.randint(1,6)\n",
    "\n",
    "    print('나: %d' %computer)\n",
    "    print('당신: %d' %me)\n",
    "    \n",
    "    if computer == me:\n",
    "        print('무승부!')\n",
    "    elif computer > me:\n",
    "        print('나의 승리!')\n",
    "    else:\n",
    "        print('당신의 승리!')\n",
    "    \n",
    "    again=input('계속하려면 y를 입력하세요!')\n",
    "\n",
    "    \n",
    "    "
   ]
  },
  {
   "cell_type": "markdown",
   "metadata": {},
   "source": [
    "# 9장"
   ]
  },
  {
   "cell_type": "code",
   "execution_count": 1,
   "metadata": {},
   "outputs": [
    {
     "name": "stdout",
     "output_type": "stream",
     "text": [
      "abcde\n"
     ]
    }
   ],
   "source": [
    "#9-1\n",
    "\n",
    "class TestClass1:\n",
    "    strings = 'abcde'\n",
    "    \n",
    "    def output(self):\n",
    "        print(self.strings)\n",
    "        \n",
    "out = TestClass1()\n",
    "out.output()"
   ]
  },
  {
   "cell_type": "code",
   "execution_count": 47,
   "metadata": {},
   "outputs": [
    {
     "name": "stdout",
     "output_type": "stream",
     "text": [
      "홍길동\n",
      "test@korea.com\n"
     ]
    }
   ],
   "source": [
    "# 9-2\n",
    "\n",
    "class TestClass2:    #클래스\n",
    "    \n",
    "    def info(self, name, email):   #매서드\n",
    "        self.name = name\n",
    "        self.email = email\n",
    "        \n",
    "my_info = TestClass2()   #my_info : 인스턴스\n",
    "my_info.info('홍길동', 'test@korea.com')\n",
    "\n",
    "print(my_info.name)\n",
    "print(my_info.email)"
   ]
  },
  {
   "cell_type": "code",
   "execution_count": 29,
   "metadata": {},
   "outputs": [
    {
     "name": "stdout",
     "output_type": "stream",
     "text": [
      "이름 : 홍길동\n",
      "이메일 : test@korea.com\n"
     ]
    }
   ],
   "source": [
    "# 9-3\n",
    "\n",
    "class TestClass2:                     #클래스\n",
    "    \n",
    "    def __init__(self,name,email):     #생성자\n",
    "        self.name = name\n",
    "        self.email = email\n",
    "    \n",
    "\n",
    "    def printinfo(self):                 #매서드\n",
    "        print('이름 : %s'%self.name)\n",
    "        print('이메일 : %s'%self.email)\n",
    "        \n",
    "a = TestClass2('홍길동','test@korea.com')  #a : 인스턴스\n",
    "a.printinfo()"
   ]
  },
  {
   "cell_type": "code",
   "execution_count": 49,
   "metadata": {},
   "outputs": [
    {
     "name": "stdout",
     "output_type": "stream",
     "text": [
      "이름 : 홍길동\n",
      "번호 : 010-1234-5678\n",
      "주소 : 성남시\n"
     ]
    }
   ],
   "source": [
    "#9-4\n",
    "\n",
    "class Member:\n",
    "    \n",
    "    def info(self, name, phone, address):\n",
    "        self.name = name\n",
    "        self.phone = phone\n",
    "        self.address = address\n",
    "        \n",
    "a = Member()\n",
    "a.info('홍길동', '010-1234-5678', '성남시')\n",
    "\n",
    "print('이름 : %s' %a.name)\n",
    "print('번호 : %s' %a.phone)\n",
    "print('주소 : %s' %a.address)"
   ]
  },
  {
   "cell_type": "code",
   "execution_count": 51,
   "metadata": {},
   "outputs": [
    {
     "name": "stdout",
     "output_type": "stream",
     "text": [
      "홍길동 010-1234-1233 성남시\n"
     ]
    }
   ],
   "source": [
    "class Member:\n",
    "    \n",
    "    def __init__(self, name, phone, address):\n",
    "        self.name = name\n",
    "        self.phone = phone\n",
    "        self.address = address\n",
    "        \n",
    "a = Member('홍길동', '010-1234-1233', '성남시')\n",
    "print(a.name, a.phone, a.address)"
   ]
  },
  {
   "cell_type": "code",
   "execution_count": 52,
   "metadata": {},
   "outputs": [
    {
     "name": "stdout",
     "output_type": "stream",
     "text": [
      "이름 : 전병관\n",
      "번호 : 010-123-4123\n",
      "주소 : 세종\n"
     ]
    }
   ],
   "source": [
    "class Member:\n",
    "    \n",
    "    def __init__(self, name, phone, address):\n",
    "        self.name = name\n",
    "        self.phone = phone\n",
    "        self.address = address\n",
    "        \n",
    "    def print_info(self):\n",
    "        print('이름 : %s' %self.name)\n",
    "        print('번호 : %s' %self.phone)\n",
    "        print('주소 : %s' %self.address)\n",
    "        \n",
    "a=Member('전병관', '010-123-4123', '세종')\n",
    "a.print_info()"
   ]
  },
  {
   "cell_type": "code",
   "execution_count": 54,
   "metadata": {},
   "outputs": [
    {
     "name": "stdout",
     "output_type": "stream",
     "text": [
      "이름 : 홍길동\n",
      "번호 : 010-1234-1234\n",
      "주소 : 성남시\n"
     ]
    }
   ],
   "source": [
    "#9-5\n",
    "\n",
    "dict = {'name':'홍길동', 'phone':'010-1234-1234', 'address':'성남시'}\n",
    "\n",
    "class Member:\n",
    "    \n",
    "    def __init__(self, name, phone, address):\n",
    "        self.name = name\n",
    "        self.phone = phone\n",
    "        self.address = address\n",
    "        \n",
    "    def print_info(self):\n",
    "        print('이름 : %s' %self.name)\n",
    "        print('번호 : %s' %self.phone)\n",
    "        print('주소 : %s' %self.address)     \n",
    "        \n",
    "a=Member(dict['name'], dict['phone'], dict['address'])\n",
    "a.print_info()"
   ]
  },
  {
   "cell_type": "code",
   "execution_count": 65,
   "metadata": {},
   "outputs": [
    {
     "name": "stdout",
     "output_type": "stream",
     "text": [
      "이름 : 홍길동\n",
      "번호 : 010-1234-1234\n",
      "주소 : 성남시\n"
     ]
    }
   ],
   "source": [
    "#9-\n",
    "\n",
    "dict = {'name':'홍길동', 'phone':'010-1234-1234', 'address':'성남시'}\n",
    "\n",
    "class Member:\n",
    "    \n",
    "    def __init__(self, dict):\n",
    "        self.dict= dict\n",
    "        \n",
    "    def print_info(self):\n",
    "        print('이름 : %s' %self.dict['name'])\n",
    "        print('번호 : %s' %self.dict['phone'])\n",
    "        print('주소 : %s' %self.dict['address'])     \n",
    "        \n",
    "a=Member(dict)\n",
    "a.print_info()"
   ]
  },
  {
   "cell_type": "code",
   "execution_count": 63,
   "metadata": {},
   "outputs": [
    {
     "name": "stdout",
     "output_type": "stream",
     "text": [
      "저자 : 홍길동\n",
      "출판사 : 지구출판사\n",
      "유형 : PDF\n"
     ]
    }
   ],
   "source": [
    "# 9-6\n",
    "\n",
    "class Book:\n",
    "    \n",
    "    def __init__(self, author, publish):\n",
    "        self.author = author\n",
    "        self.publish = publish\n",
    "        \n",
    "    def getAuthorInfo(self):\n",
    "        string = '저자 : %s' %self.author\n",
    "        return string\n",
    "    \n",
    "    def getPublishInfo(self):\n",
    "        string = '출판사 : %s' %self.publish\n",
    "        return string\n",
    "    \n",
    "class Ebook(Book):\n",
    "    def __init__(self, author, publish,type):\n",
    "        super().__init__(author, publish)\n",
    "        self.type = type\n",
    "        \n",
    "    def getTypeInfo(self):\n",
    "        string = '유형 : %s' %self.type\n",
    "        return string\n",
    "    \n",
    "book1 = Ebook('홍길동', '지구출판사', 'PDF')\n",
    "\n",
    "print(book1.getAuthorInfo())\n",
    "print(book1.getPublishInfo())\n",
    "print(book1.getTypeInfo())"
   ]
  },
  {
   "cell_type": "code",
   "execution_count": null,
   "metadata": {},
   "outputs": [],
   "source": []
  }
 ],
 "metadata": {
  "kernelspec": {
   "display_name": "Python 3",
   "language": "python",
   "name": "python3"
  },
  "language_info": {
   "codemirror_mode": {
    "name": "ipython",
    "version": 3
   },
   "file_extension": ".py",
   "mimetype": "text/x-python",
   "name": "python",
   "nbconvert_exporter": "python",
   "pygments_lexer": "ipython3",
   "version": "3.7.6"
  }
 },
 "nbformat": 4,
 "nbformat_minor": 4
}
