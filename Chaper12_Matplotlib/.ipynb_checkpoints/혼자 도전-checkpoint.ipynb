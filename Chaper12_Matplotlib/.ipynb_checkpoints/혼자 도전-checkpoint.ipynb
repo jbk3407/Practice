{
 "cells": [
  {
   "cell_type": "code",
   "execution_count": 1,
   "metadata": {},
   "outputs": [],
   "source": [
    "import matplotlib as mlp\n",
    "import matplotlib.pyplot as plt\n",
    "mlp.rcParams['axes.unicode_minus']=False\n",
    "mlp.rc('font', family = 'Malgun Gothic')\n",
    "%matplotlib inline\n",
    "\n",
    "plt.rcParams['figure.figsize'] = (10,6)\n",
    "plt.rcParams['font.size'] =10"
   ]
  },
  {
   "cell_type": "code",
   "execution_count": 95,
   "metadata": {},
   "outputs": [],
   "source": [
    "import csv\n",
    "import numpy as np\n",
    "\n",
    "f = open('doctor_2019.csv','r', encoding='utf-8')\n",
    "lines = csv.reader(f)\n",
    "\n",
    "header = next(lines)\n",
    "\n",
    "list_data=[]\n",
    "for line in lines:\n",
    "    list_data.append(line[:])\n",
    "\n",
    "\n",
    "f.close()"
   ]
  },
  {
   "cell_type": "code",
   "execution_count": 23,
   "metadata": {},
   "outputs": [
    {
     "name": "stdout",
     "output_type": "stream",
     "text": [
      "[['인천' '가톨릭대학교인천성모병원' '1' '22' '68' '201']\n",
      " ['서울' '강북삼성병원' '6' '28' '137' '204']\n",
      " ['서울' '건국대학교병원' '1' '37' '164' '225']\n",
      " ...\n",
      " ['경기' '효산의료재단 안양샘병원' '7' '5' '17' '86']\n",
      " ['경기' '효산의료재단 지샘병원' '2' '0' '2' '72']\n",
      " ['서울' '희명병원' '1' '0' '0' '22']]\n"
     ]
    }
   ],
   "source": [
    "array_data = np.array(list_data)\n",
    "print(array_data)"
   ]
  },
  {
   "cell_type": "code",
   "execution_count": 93,
   "metadata": {},
   "outputs": [
    {
     "data": {
      "text/plain": [
       "162"
      ]
     },
     "execution_count": 93,
     "metadata": {},
     "output_type": "execute_result"
    }
   ],
   "source": [
    "#서울지역 일반의 수\n",
    "x=[]\n",
    "for i in range(len(array_data)):\n",
    "    if array_data[i,0] =='서울':\n",
    "        x.append(array_data[i,2])\n",
    "        \n",
    "x=map(int,x)\n",
    "sum(x)"
   ]
  },
  {
   "cell_type": "code",
   "execution_count": null,
   "metadata": {},
   "outputs": [],
   "source": []
  }
 ],
 "metadata": {
  "kernelspec": {
   "display_name": "Python 3",
   "language": "python",
   "name": "python3"
  },
  "language_info": {
   "codemirror_mode": {
    "name": "ipython",
    "version": 3
   },
   "file_extension": ".py",
   "mimetype": "text/x-python",
   "name": "python",
   "nbconvert_exporter": "python",
   "pygments_lexer": "ipython3",
   "version": "3.7.6"
  }
 },
 "nbformat": 4,
 "nbformat_minor": 4
}
