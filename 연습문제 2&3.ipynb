{
 "cells": [
  {
   "cell_type": "markdown",
   "metadata": {},
   "source": [
    "# 2-1. \n",
    "(1) 숫자:정수로 구성된 정수형과 소수점이 있는 실수형 숫자가 있다.\n",
    "(2) 문자열: 하나 또는 다수의 문자로 구성된 데이터 형을 말한다. 문자열을 사용할 대는 숫자와는 따옴표나, 쌍따옴표를 붙여야한다"
   ]
  },
  {
   "cell_type": "markdown",
   "metadata": {},
   "source": [
    "# 2-1\n",
    "정답: -72"
   ]
  },
  {
   "cell_type": "code",
   "execution_count": 4,
   "metadata": {},
   "outputs": [
    {
     "name": "stdout",
     "output_type": "stream",
     "text": [
      "**원의 둘레와 면적을 구하는 프로그램** \n",
      "\n",
      "반지름을 입력하세요 : 10\n",
      "원의 둘레 62.80 cm\n",
      "원의 면적 314.00 cm2\n"
     ]
    }
   ],
   "source": [
    "#2-3\n",
    "\n",
    "print('**원의 둘레와 면적을 구하는 프로그램**','\\n')\n",
    "\n",
    "r=int(input('반지름을 입력하세요 : '))\n",
    "perimeter = 2*3.14*r\n",
    "area = 3.14*r**2\n",
    "\n",
    "print('원의 둘레 %.2f cm'%perimeter)\n",
    "print('원의 면적 %.2f cm2'%area)\n",
    "\n",
    "\n"
   ]
  },
  {
   "cell_type": "code",
   "execution_count": 3,
   "metadata": {},
   "outputs": [
    {
     "name": "stdout",
     "output_type": "stream",
     "text": [
      "***온라인 서점에서 결제할 금액을 계산하는 프로그램*** \n",
      "\n",
      "책 값을 입력하세요 : 15000\n",
      "할인율을 입력하세요(%) : 15\n",
      "배송료를 입력하세요 : 3000\n",
      "결제 금액 : 15750원\n"
     ]
    }
   ],
   "source": [
    "#2-4\n",
    "\n",
    "print('***온라인 서점에서 결제할 금액을 계산하는 프로그램***','\\n')\n",
    "\n",
    "x=int(input('책 값을 입력하세요 : '))\n",
    "y=int(input('할인율을 입력하세요(%) : '))\n",
    "z=int(input('배송료를 입력하세요 : '))\n",
    "\n",
    "total = x-(x*y/100)+z\n",
    "\n",
    "print('결제 금액 : %d원'%total)"
   ]
  },
  {
   "cell_type": "code",
   "execution_count": 16,
   "metadata": {},
   "outputs": [
    {
     "name": "stdout",
     "output_type": "stream",
     "text": [
      "이름, 현재년, 출생년을 입력받아 나이를 계산하는 프로그램 \n",
      "\n",
      "이름을 입력하세요 : 안지영\n",
      "현재년을 입력하세요 : 2020\n",
      "탄생년을 입력하세요 : 1997\n",
      "안지영님의 나이는 24세 입니다!\n"
     ]
    }
   ],
   "source": [
    "#2-5\n",
    "\n",
    "print('***이름, 현재년, 출생년을 입력받아 나이를 계산하는 프로그램***', '\\n')\n",
    "\n",
    "name=str(input('이름을 입력하세요 : '))\n",
    "year_now=int(input('현재년을 입력하세요 : '))\n",
    "birth=int(input('탄생년을 입력하세요 : '))\n",
    "\n",
    "age = year_now-birth+1\n",
    "\n",
    "print('%s님의 나이는 %d세 입니다!'%(name,age))"
   ]
  },
  {
   "cell_type": "code",
   "execution_count": 35,
   "metadata": {},
   "outputs": [
    {
     "name": "stdout",
     "output_type": "stream",
     "text": [
      "***###-##-##의 형태로 출력하는 프로그램*** \n",
      "\n",
      "연을 입력하세요 : 2020\n",
      "월을 입력하세요 : 1\n",
      "일을 입력하세요 : 5\n",
      "2020-01-05\n"
     ]
    }
   ],
   "source": [
    "#2-6\n",
    "\n",
    "print('***###-##-##의 형태로 출력하는 프로그램***','\\n')\n",
    "\n",
    "year = int(input('연을 입력하세요 : '))\n",
    "month = int(input('월을 입력하세요 : '))\n",
    "day = int(input('일을 입력하세요 : '))\n",
    "\n",
    "print('%d-%02d-%02d'%(year,month,day))"
   ]
  },
  {
   "cell_type": "markdown",
   "metadata": {},
   "source": [
    "# 3-1\n",
    "False True False\n",
    "True True False\n",
    "True True True"
   ]
  },
  {
   "cell_type": "markdown",
   "metadata": {},
   "source": [
    "# 3-2\n",
    "False True\n",
    "True False\n",
    "False True\n"
   ]
  },
  {
   "cell_type": "markdown",
   "metadata": {},
   "source": [
    "# 3-3\n",
    "정답 : 4"
   ]
  },
  {
   "cell_type": "code",
   "execution_count": 63,
   "metadata": {},
   "outputs": [
    {
     "name": "stdout",
     "output_type": "stream",
     "text": [
      "***온도 변환 프로그램***\n",
      "단위를 입력하세요(1:섭씨, 2:화씨)2\n",
      "온도를 입력하세요 : 80\n",
      "물의 섭씨 온도: 26.67 상태 : 액체\n"
     ]
    }
   ],
   "source": [
    "#3-4\n",
    "\n",
    "print('***온도 변환 프로그램***')\n",
    "\n",
    "stat = str(\"\")\n",
    "\n",
    "unit = int(input('단위를 입력하세요(1:섭씨, 2:화씨)'))\n",
    "if unit == 1:\n",
    "    C=int(input('온도를 입력하세요 : '))\n",
    "    \n",
    "    if 100>C>=0:\n",
    "        stat = '액체'\n",
    "    elif C<0:\n",
    "        stat = '고체'\n",
    "    else:\n",
    "        stat = '기체'\n",
    "    print('물의 썹씨 온도 : %.2f,'%C, '상태 : %s'%stat)\n",
    "    \n",
    "if unit ==2:\n",
    "    F=int(input('온도를 입력하세요 : '))\n",
    "    new_temp = (F-32)*5/9\n",
    "    \n",
    "    if 100>new_temp>0:\n",
    "        stat = '액체'\n",
    "    elif new_temp:\n",
    "        stat = '고체'\n",
    "    else:\n",
    "        stat = '기체'\n",
    "    print('물의 섭씨 온도: %.2f'%new_temp, '상태 : %s'%stat)"
   ]
  },
  {
   "cell_type": "code",
   "execution_count": 67,
   "metadata": {},
   "outputs": [
    {
     "name": "stdout",
     "output_type": "stream",
     "text": [
      "***admin or not***\n",
      "아이디를 입력하세요 : jbk3407\n",
      "회원 레벨을 입력해주세요 : 3\n",
      "일부 컨텐츠 이용 가능\n"
     ]
    }
   ],
   "source": [
    "#3-5\n",
    "\n",
    "print('***admin or not***')\n",
    "\n",
    "id = str(input('아이디를 입력하세요 : '))\n",
    "\n",
    "if id == 'admin':\n",
    "    print('모든 컨텐츠 이용 가능')\n",
    "\n",
    "if id != 'admin':\n",
    "    level = int(input('회원 레벨을 입력해주세요 : '))\n",
    "    \n",
    "    if 2<=level<=7:\n",
    "        print('일부 컨텐츠 이용 가능')\n",
    "    else:\n",
    "        print('콘텐츠 이용 불가')"
   ]
  },
  {
   "cell_type": "code",
   "execution_count": 70,
   "metadata": {},
   "outputs": [
    {
     "name": "stdout",
     "output_type": "stream",
     "text": [
      "***나이별 입장료 계산 프로그램***\n",
      "나이를 입력하세요 : 100\n",
      "입장료는 : 0원 입니다\n"
     ]
    }
   ],
   "source": [
    "#3-6\n",
    "\n",
    "print('***나이별 입장료 계산 프로그램***')\n",
    "\n",
    "age = int(input('나이를 입력하세요 : '))\n",
    "price = 2000\n",
    "\n",
    "if age<=10:\n",
    "    print('입장료는 : %d원 입니다'%(price-1000))\n",
    "elif age>=65:\n",
    "    print('입장료는 : %d원 입니다'%(price*0))\n",
    "else:\n",
    "    print('입장료는 %d원 입니다'%price)"
   ]
  },
  {
   "cell_type": "code",
   "execution_count": 79,
   "metadata": {},
   "outputs": [
    {
     "name": "stdout",
     "output_type": "stream",
     "text": [
      "***합격, 불합격, 재시험***\n",
      "영어시험 점수를 입력하세요 : 80\n",
      "수학시험 점수를 입력하세요 : 80\n",
      "합격\n"
     ]
    }
   ],
   "source": [
    "#3-7\n",
    "\n",
    "print('***합격, 불합격, 재시험***')\n",
    "\n",
    "english = int(input('영어시험 점수를 입력하세요 : '))\n",
    "math = int(input('수학시험 점수를 입력하세요 : '))\n",
    "\n",
    "if english >=80 and math >=80:\n",
    "    print('합격')\n",
    "\n",
    "elif english <=80 and math <= 80:\n",
    "    print('불합격')\n",
    "else:\n",
    "    print('재시험 기회 재공')"
   ]
  },
  {
   "cell_type": "code",
   "execution_count": null,
   "metadata": {},
   "outputs": [],
   "source": []
  }
 ],
 "metadata": {
  "kernelspec": {
   "display_name": "Python 3",
   "language": "python",
   "name": "python3"
  },
  "language_info": {
   "codemirror_mode": {
    "name": "ipython",
    "version": 3
   },
   "file_extension": ".py",
   "mimetype": "text/x-python",
   "name": "python",
   "nbconvert_exporter": "python",
   "pygments_lexer": "ipython3",
   "version": "3.7.6"
  }
 },
 "nbformat": 4,
 "nbformat_minor": 4
}
